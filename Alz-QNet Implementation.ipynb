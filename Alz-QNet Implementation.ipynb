{
  "nbformat": 4,
  "nbformat_minor": 0,
  "metadata": {
    "colab": {
      "provenance": []
    },
    "kernelspec": {
      "name": "python3",
      "display_name": "Python 3"
    },
    "language_info": {
      "name": "python"
    }
  },
  "cells": [
    {
      "cell_type": "code",
      "execution_count": null,
      "metadata": {
        "colab": {
          "base_uri": "https://localhost:8080/"
        },
        "id": "TD8Ev-3Jx8Px",
        "outputId": "f6fe2932-78b7-4cd8-dc93-c890e6816488"
      },
      "outputs": [
        {
          "output_type": "stream",
          "name": "stdout",
          "text": [
            "Reading package lists... Done\n",
            "Building dependency tree... Done\n",
            "Reading state information... Done\n",
            "The following additional packages will be installed:\n",
            "  libblkid-dev libblkid1 libcairo-script-interpreter2 libffi-dev libglib2.0-dev libglib2.0-dev-bin\n",
            "  libice-dev liblzo2-2 libmount-dev libmount1 libpixman-1-dev libselinux1-dev libsepol-dev\n",
            "  libsm-dev libxcb-render0-dev libxcb-shm0-dev\n",
            "Suggested packages:\n",
            "  libcairo2-doc libgirepository1.0-dev libglib2.0-doc libgdk-pixbuf2.0-bin | libgdk-pixbuf2.0-dev\n",
            "  libxml2-utils libice-doc cryptsetup-bin libsm-doc\n",
            "The following NEW packages will be installed:\n",
            "  libblkid-dev libcairo-script-interpreter2 libcairo2-dev libffi-dev libglib2.0-dev\n",
            "  libglib2.0-dev-bin libice-dev liblzo2-2 libmount-dev libpixman-1-dev libselinux1-dev libsepol-dev\n",
            "  libsm-dev libxcb-render0-dev libxcb-shm0-dev\n",
            "The following packages will be upgraded:\n",
            "  libblkid1 libmount1\n",
            "2 upgraded, 15 newly installed, 0 to remove and 43 not upgraded.\n",
            "Need to get 4,065 kB of archives.\n",
            "After this operation, 19.8 MB of additional disk space will be used.\n",
            "Get:1 http://archive.ubuntu.com/ubuntu jammy-updates/main amd64 libblkid1 amd64 2.37.2-4ubuntu3.3 [104 kB]\n",
            "Get:2 http://archive.ubuntu.com/ubuntu jammy-updates/main amd64 libmount1 amd64 2.37.2-4ubuntu3.3 [122 kB]\n",
            "Get:3 http://archive.ubuntu.com/ubuntu jammy/main amd64 liblzo2-2 amd64 2.10-2build3 [53.7 kB]\n",
            "Get:4 http://archive.ubuntu.com/ubuntu jammy/main amd64 libcairo-script-interpreter2 amd64 1.16.0-5ubuntu2 [62.0 kB]\n",
            "Get:5 http://archive.ubuntu.com/ubuntu jammy/main amd64 libice-dev amd64 2:1.0.10-1build2 [51.4 kB]\n",
            "Get:6 http://archive.ubuntu.com/ubuntu jammy/main amd64 libsm-dev amd64 2:1.2.3-1build2 [18.1 kB]\n",
            "Get:7 http://archive.ubuntu.com/ubuntu jammy-updates/main amd64 libpixman-1-dev amd64 0.40.0-1ubuntu0.22.04.1 [280 kB]\n",
            "Get:8 http://archive.ubuntu.com/ubuntu jammy/main amd64 libxcb-render0-dev amd64 1.14-3ubuntu3 [19.6 kB]\n",
            "Get:9 http://archive.ubuntu.com/ubuntu jammy/main amd64 libxcb-shm0-dev amd64 1.14-3ubuntu3 [6,848 B]\n",
            "Get:10 http://archive.ubuntu.com/ubuntu jammy/main amd64 libffi-dev amd64 3.4.2-4 [63.7 kB]\n",
            "Get:11 http://archive.ubuntu.com/ubuntu jammy-updates/main amd64 libglib2.0-dev-bin amd64 2.72.4-0ubuntu2.2 [117 kB]\n",
            "Get:12 http://archive.ubuntu.com/ubuntu jammy-updates/main amd64 libblkid-dev amd64 2.37.2-4ubuntu3.3 [185 kB]\n",
            "Get:13 http://archive.ubuntu.com/ubuntu jammy/main amd64 libsepol-dev amd64 3.3-1build1 [378 kB]\n",
            "Get:14 http://archive.ubuntu.com/ubuntu jammy/main amd64 libselinux1-dev amd64 3.3-1build2 [158 kB]\n",
            "Get:15 http://archive.ubuntu.com/ubuntu jammy-updates/main amd64 libmount-dev amd64 2.37.2-4ubuntu3.3 [14.6 kB]\n",
            "Get:16 http://archive.ubuntu.com/ubuntu jammy-updates/main amd64 libglib2.0-dev amd64 2.72.4-0ubuntu2.2 [1,739 kB]\n",
            "Get:17 http://archive.ubuntu.com/ubuntu jammy/main amd64 libcairo2-dev amd64 1.16.0-5ubuntu2 [692 kB]\n",
            "Fetched 4,065 kB in 2s (1,894 kB/s)\n",
            "(Reading database ... 121753 files and directories currently installed.)\n",
            "Preparing to unpack .../libblkid1_2.37.2-4ubuntu3.3_amd64.deb ...\n",
            "Unpacking libblkid1:amd64 (2.37.2-4ubuntu3.3) over (2.37.2-4ubuntu3) ...\n",
            "Setting up libblkid1:amd64 (2.37.2-4ubuntu3.3) ...\n",
            "(Reading database ... 121753 files and directories currently installed.)\n",
            "Preparing to unpack .../libmount1_2.37.2-4ubuntu3.3_amd64.deb ...\n",
            "Unpacking libmount1:amd64 (2.37.2-4ubuntu3.3) over (2.37.2-4ubuntu3) ...\n",
            "Setting up libmount1:amd64 (2.37.2-4ubuntu3.3) ...\n",
            "Selecting previously unselected package liblzo2-2:amd64.\n",
            "(Reading database ... 121753 files and directories currently installed.)\n",
            "Preparing to unpack .../00-liblzo2-2_2.10-2build3_amd64.deb ...\n",
            "Unpacking liblzo2-2:amd64 (2.10-2build3) ...\n",
            "Selecting previously unselected package libcairo-script-interpreter2:amd64.\n",
            "Preparing to unpack .../01-libcairo-script-interpreter2_1.16.0-5ubuntu2_amd64.deb ...\n",
            "Unpacking libcairo-script-interpreter2:amd64 (1.16.0-5ubuntu2) ...\n",
            "Selecting previously unselected package libice-dev:amd64.\n",
            "Preparing to unpack .../02-libice-dev_2%3a1.0.10-1build2_amd64.deb ...\n",
            "Unpacking libice-dev:amd64 (2:1.0.10-1build2) ...\n",
            "Selecting previously unselected package libsm-dev:amd64.\n",
            "Preparing to unpack .../03-libsm-dev_2%3a1.2.3-1build2_amd64.deb ...\n",
            "Unpacking libsm-dev:amd64 (2:1.2.3-1build2) ...\n",
            "Selecting previously unselected package libpixman-1-dev:amd64.\n",
            "Preparing to unpack .../04-libpixman-1-dev_0.40.0-1ubuntu0.22.04.1_amd64.deb ...\n",
            "Unpacking libpixman-1-dev:amd64 (0.40.0-1ubuntu0.22.04.1) ...\n",
            "Selecting previously unselected package libxcb-render0-dev:amd64.\n",
            "Preparing to unpack .../05-libxcb-render0-dev_1.14-3ubuntu3_amd64.deb ...\n",
            "Unpacking libxcb-render0-dev:amd64 (1.14-3ubuntu3) ...\n",
            "Selecting previously unselected package libxcb-shm0-dev:amd64.\n",
            "Preparing to unpack .../06-libxcb-shm0-dev_1.14-3ubuntu3_amd64.deb ...\n",
            "Unpacking libxcb-shm0-dev:amd64 (1.14-3ubuntu3) ...\n",
            "Selecting previously unselected package libffi-dev:amd64.\n",
            "Preparing to unpack .../07-libffi-dev_3.4.2-4_amd64.deb ...\n",
            "Unpacking libffi-dev:amd64 (3.4.2-4) ...\n",
            "Selecting previously unselected package libglib2.0-dev-bin.\n",
            "Preparing to unpack .../08-libglib2.0-dev-bin_2.72.4-0ubuntu2.2_amd64.deb ...\n",
            "Unpacking libglib2.0-dev-bin (2.72.4-0ubuntu2.2) ...\n",
            "Selecting previously unselected package libblkid-dev:amd64.\n",
            "Preparing to unpack .../09-libblkid-dev_2.37.2-4ubuntu3.3_amd64.deb ...\n",
            "Unpacking libblkid-dev:amd64 (2.37.2-4ubuntu3.3) ...\n",
            "Selecting previously unselected package libsepol-dev:amd64.\n",
            "Preparing to unpack .../10-libsepol-dev_3.3-1build1_amd64.deb ...\n",
            "Unpacking libsepol-dev:amd64 (3.3-1build1) ...\n",
            "Selecting previously unselected package libselinux1-dev:amd64.\n",
            "Preparing to unpack .../11-libselinux1-dev_3.3-1build2_amd64.deb ...\n",
            "Unpacking libselinux1-dev:amd64 (3.3-1build2) ...\n",
            "Selecting previously unselected package libmount-dev:amd64.\n",
            "Preparing to unpack .../12-libmount-dev_2.37.2-4ubuntu3.3_amd64.deb ...\n",
            "Unpacking libmount-dev:amd64 (2.37.2-4ubuntu3.3) ...\n",
            "Selecting previously unselected package libglib2.0-dev:amd64.\n",
            "Preparing to unpack .../13-libglib2.0-dev_2.72.4-0ubuntu2.2_amd64.deb ...\n",
            "Unpacking libglib2.0-dev:amd64 (2.72.4-0ubuntu2.2) ...\n",
            "Selecting previously unselected package libcairo2-dev:amd64.\n",
            "Preparing to unpack .../14-libcairo2-dev_1.16.0-5ubuntu2_amd64.deb ...\n",
            "Unpacking libcairo2-dev:amd64 (1.16.0-5ubuntu2) ...\n",
            "Setting up libglib2.0-dev-bin (2.72.4-0ubuntu2.2) ...\n",
            "Setting up libblkid-dev:amd64 (2.37.2-4ubuntu3.3) ...\n",
            "Setting up libpixman-1-dev:amd64 (0.40.0-1ubuntu0.22.04.1) ...\n",
            "Setting up libice-dev:amd64 (2:1.0.10-1build2) ...\n",
            "Setting up libsm-dev:amd64 (2:1.2.3-1build2) ...\n",
            "Setting up liblzo2-2:amd64 (2.10-2build3) ...\n",
            "Setting up libffi-dev:amd64 (3.4.2-4) ...\n",
            "Setting up libxcb-shm0-dev:amd64 (1.14-3ubuntu3) ...\n",
            "Setting up libsepol-dev:amd64 (3.3-1build1) ...\n",
            "Setting up libxcb-render0-dev:amd64 (1.14-3ubuntu3) ...\n",
            "Setting up libcairo-script-interpreter2:amd64 (1.16.0-5ubuntu2) ...\n",
            "Setting up libselinux1-dev:amd64 (3.3-1build2) ...\n",
            "Setting up libmount-dev:amd64 (2.37.2-4ubuntu3.3) ...\n",
            "Setting up libglib2.0-dev:amd64 (2.72.4-0ubuntu2.2) ...\n",
            "Processing triggers for libglib2.0-0:amd64 (2.72.4-0ubuntu2.2) ...\n",
            "Processing triggers for libc-bin (2.35-0ubuntu3.4) ...\n",
            "/sbin/ldconfig.real: /usr/local/lib/libtbbmalloc.so.2 is not a symbolic link\n",
            "\n",
            "/sbin/ldconfig.real: /usr/local/lib/libtbbmalloc_proxy.so.2 is not a symbolic link\n",
            "\n",
            "/sbin/ldconfig.real: /usr/local/lib/libtbbbind_2_0.so.3 is not a symbolic link\n",
            "\n",
            "/sbin/ldconfig.real: /usr/local/lib/libtbbbind_2_5.so.3 is not a symbolic link\n",
            "\n",
            "/sbin/ldconfig.real: /usr/local/lib/libtbb.so.12 is not a symbolic link\n",
            "\n",
            "/sbin/ldconfig.real: /usr/local/lib/libtbbbind.so.3 is not a symbolic link\n",
            "\n",
            "Processing triggers for man-db (2.10.2-1) ...\n",
            "Setting up libcairo2-dev:amd64 (1.16.0-5ubuntu2) ...\n",
            "Collecting pycairo\n",
            "  Downloading pycairo-1.26.0.tar.gz (346 kB)\n",
            "\u001b[2K     \u001b[90m━━━━━━━━━━━━━━━━━━━━━━━━━━━━━━━━━━━━━━━━\u001b[0m \u001b[32m346.9/346.9 kB\u001b[0m \u001b[31m7.5 MB/s\u001b[0m eta \u001b[36m0:00:00\u001b[0m\n",
            "\u001b[?25h  Installing build dependencies ... \u001b[?25l\u001b[?25hdone\n",
            "  Getting requirements to build wheel ... \u001b[?25l\u001b[?25hdone\n",
            "  Installing backend dependencies ... \u001b[?25l\u001b[?25hdone\n",
            "  Preparing metadata (pyproject.toml) ... \u001b[?25l\u001b[?25hdone\n",
            "Building wheels for collected packages: pycairo\n",
            "  Building wheel for pycairo (pyproject.toml) ... \u001b[?25l\u001b[?25hdone\n",
            "  Created wheel for pycairo: filename=pycairo-1.26.0-cp310-cp310-linux_x86_64.whl size=320921 sha256=b2d9bb7fb5d8e5e16b2b9f72463677cfa227c47b41a84aa738f64c6bb6a50ef4\n",
            "  Stored in directory: /root/.cache/pip/wheels/e3/46/83/453eb7915b034ce1a9fee5a6023def2030633f6a73dc6d2de8\n",
            "Successfully built pycairo\n",
            "Installing collected packages: pycairo\n",
            "Successfully installed pycairo-1.26.0\n"
          ]
        }
      ],
      "source": [
        "!apt-get install libcairo2-dev\n",
        "!pip install pycairo"
      ]
    },
    {
      "cell_type": "code",
      "source": [
        "!pip install pycairo pkgconfig"
      ],
      "metadata": {
        "colab": {
          "base_uri": "https://localhost:8080/"
        },
        "id": "NQ99OGmjyC3g",
        "outputId": "8b91e7b2-bd51-4bf7-a670-5c63a58af95f"
      },
      "execution_count": null,
      "outputs": [
        {
          "output_type": "stream",
          "name": "stdout",
          "text": [
            "Requirement already satisfied: pycairo in /usr/local/lib/python3.10/dist-packages (1.26.0)\n",
            "Collecting pkgconfig\n",
            "  Downloading pkgconfig-1.5.5-py3-none-any.whl (6.7 kB)\n",
            "Installing collected packages: pkgconfig\n",
            "Successfully installed pkgconfig-1.5.5\n"
          ]
        }
      ]
    },
    {
      "cell_type": "code",
      "source": [
        "!pip install git+https://github.com/NeeravSreekumar/AD_Quantum"
      ],
      "metadata": {
        "colab": {
          "base_uri": "https://localhost:8080/",
          "height": 1000
        },
        "id": "8y6uGzK4yTjb",
        "outputId": "afde3d43-6aa5-4f7c-f3b6-36f844551774"
      },
      "execution_count": null,
      "outputs": [
        {
          "output_type": "stream",
          "name": "stdout",
          "text": [
            "Collecting git+https://github.com/NeeravSreekumar/AD_Demo\n",
            "  Cloning https://github.com/NeeravSreekumar/AD_Demo to /tmp/pip-req-build-qfi5y2a1\n",
            "  Running command git clone --filter=blob:none --quiet https://github.com/NeeravSreekumar/AD_Demo /tmp/pip-req-build-qfi5y2a1\n",
            "  Resolved https://github.com/NeeravSreekumar/AD_Demo to commit c35e5bd658315c325a87fab220daebc2a6538a22\n",
            "  Preparing metadata (setup.py) ... \u001b[?25l\u001b[?25hdone\n",
            "Collecting certifi~=2022.6.15 (from QuantumGRN==1.0.1)\n",
            "  Downloading certifi-2022.6.15.2-py3-none-any.whl (160 kB)\n",
            "\u001b[2K     \u001b[90m━━━━━━━━━━━━━━━━━━━━━━━━━━━━━━━━━━━━━━━━\u001b[0m \u001b[32m160.4/160.4 kB\u001b[0m \u001b[31m4.2 MB/s\u001b[0m eta \u001b[36m0:00:00\u001b[0m\n",
            "\u001b[?25hCollecting cffi~=1.15.1 (from QuantumGRN==1.0.1)\n",
            "  Downloading cffi-1.15.1-cp310-cp310-manylinux_2_17_x86_64.manylinux2014_x86_64.whl (441 kB)\n",
            "\u001b[2K     \u001b[90m━━━━━━━━━━━━━━━━━━━━━━━━━━━━━━━━━━━━━━━━\u001b[0m \u001b[32m441.8/441.8 kB\u001b[0m \u001b[31m9.6 MB/s\u001b[0m eta \u001b[36m0:00:00\u001b[0m\n",
            "\u001b[?25hCollecting charset-normalizer~=2.1.0 (from QuantumGRN==1.0.1)\n",
            "  Downloading charset_normalizer-2.1.1-py3-none-any.whl (39 kB)\n",
            "Collecting cryptography~=37.0.2 (from QuantumGRN==1.0.1)\n",
            "  Downloading cryptography-37.0.4-cp36-abi3-manylinux_2_24_x86_64.whl (4.1 MB)\n",
            "\u001b[2K     \u001b[90m━━━━━━━━━━━━━━━━━━━━━━━━━━━━━━━━━━━━━━━━\u001b[0m \u001b[32m4.1/4.1 MB\u001b[0m \u001b[31m20.1 MB/s\u001b[0m eta \u001b[36m0:00:00\u001b[0m\n",
            "\u001b[?25hCollecting cycler~=0.11.0 (from QuantumGRN==1.0.1)\n",
            "  Downloading cycler-0.11.0-py3-none-any.whl (6.4 kB)\n",
            "Collecting dill~=0.3.5.1 (from QuantumGRN==1.0.1)\n",
            "  Downloading dill-0.3.5.1-py2.py3-none-any.whl (95 kB)\n",
            "\u001b[2K     \u001b[90m━━━━━━━━━━━━━━━━━━━━━━━━━━━━━━━━━━━━━━━━\u001b[0m \u001b[32m95.8/95.8 kB\u001b[0m \u001b[31m12.6 MB/s\u001b[0m eta \u001b[36m0:00:00\u001b[0m\n",
            "\u001b[?25hCollecting fonttools~=4.33.3 (from QuantumGRN==1.0.1)\n",
            "  Downloading fonttools-4.33.3-py3-none-any.whl (930 kB)\n",
            "\u001b[2K     \u001b[90m━━━━━━━━━━━━━━━━━━━━━━━━━━━━━━━━━━━━━━━━\u001b[0m \u001b[32m930.9/930.9 kB\u001b[0m \u001b[31m31.6 MB/s\u001b[0m eta \u001b[36m0:00:00\u001b[0m\n",
            "\u001b[?25hRequirement already satisfied: idna~=3.3 in /usr/local/lib/python3.10/dist-packages (from QuantumGRN==1.0.1) (3.6)\n",
            "Collecting igraph~=0.9.11 (from QuantumGRN==1.0.1)\n",
            "  Downloading igraph-0.9.11-cp310-cp310-manylinux_2_17_x86_64.manylinux2014_x86_64.whl (3.2 MB)\n",
            "\u001b[2K     \u001b[90m━━━━━━━━━━━━━━━━━━━━━━━━━━━━━━━━━━━━━━━━\u001b[0m \u001b[32m3.2/3.2 MB\u001b[0m \u001b[31m30.0 MB/s\u001b[0m eta \u001b[36m0:00:00\u001b[0m\n",
            "\u001b[?25hRequirement already satisfied: kiwisolver~=1.4.3 in /usr/local/lib/python3.10/dist-packages (from QuantumGRN==1.0.1) (1.4.5)\n",
            "Collecting matplotlib~=3.5.2 (from QuantumGRN==1.0.1)\n",
            "  Downloading matplotlib-3.5.3-cp310-cp310-manylinux_2_17_x86_64.manylinux2014_x86_64.whl (11.9 MB)\n",
            "\u001b[2K     \u001b[90m━━━━━━━━━━━━━━━━━━━━━━━━━━━━━━━━━━━━━━━━\u001b[0m \u001b[32m11.9/11.9 MB\u001b[0m \u001b[31m52.6 MB/s\u001b[0m eta \u001b[36m0:00:00\u001b[0m\n",
            "\u001b[?25hCollecting mpmath~=1.2.1 (from QuantumGRN==1.0.1)\n",
            "  Downloading mpmath-1.2.1-py3-none-any.whl (532 kB)\n",
            "\u001b[2K     \u001b[90m━━━━━━━━━━━━━━━━━━━━━━━━━━━━━━━━━━━━━━━━\u001b[0m \u001b[32m532.6/532.6 kB\u001b[0m \u001b[31m29.4 MB/s\u001b[0m eta \u001b[36m0:00:00\u001b[0m\n",
            "\u001b[?25hCollecting ntlm-auth~=1.5.0 (from QuantumGRN==1.0.1)\n",
            "  Downloading ntlm_auth-1.5.0-py2.py3-none-any.whl (29 kB)\n",
            "Collecting numpy~=1.23.0 (from QuantumGRN==1.0.1)\n",
            "  Downloading numpy-1.23.5-cp310-cp310-manylinux_2_17_x86_64.manylinux2014_x86_64.whl (17.1 MB)\n",
            "\u001b[2K     \u001b[90m━━━━━━━━━━━━━━━━━━━━━━━━━━━━━━━━━━━━━━━━\u001b[0m \u001b[32m17.1/17.1 MB\u001b[0m \u001b[31m28.0 MB/s\u001b[0m eta \u001b[36m0:00:00\u001b[0m\n",
            "\u001b[?25hCollecting packaging~=21.3 (from QuantumGRN==1.0.1)\n",
            "  Downloading packaging-21.3-py3-none-any.whl (40 kB)\n",
            "\u001b[2K     \u001b[90m━━━━━━━━━━━━━━━━━━━━━━━━━━━━━━━━━━━━━━━━\u001b[0m \u001b[32m40.8/40.8 kB\u001b[0m \u001b[31m2.9 MB/s\u001b[0m eta \u001b[36m0:00:00\u001b[0m\n",
            "\u001b[?25hCollecting pandas~=1.4.3 (from QuantumGRN==1.0.1)\n",
            "  Downloading pandas-1.4.4-cp310-cp310-manylinux_2_17_x86_64.manylinux2014_x86_64.whl (11.6 MB)\n",
            "\u001b[2K     \u001b[90m━━━━━━━━━━━━━━━━━━━━━━━━━━━━━━━━━━━━━━━━\u001b[0m \u001b[32m11.6/11.6 MB\u001b[0m \u001b[31m46.2 MB/s\u001b[0m eta \u001b[36m0:00:00\u001b[0m\n",
            "\u001b[?25hCollecting pbr~=5.9.0 (from QuantumGRN==1.0.1)\n",
            "  Downloading pbr-5.9.0-py2.py3-none-any.whl (112 kB)\n",
            "\u001b[2K     \u001b[90m━━━━━━━━━━━━━━━━━━━━━━━━━━━━━━━━━━━━━━━━\u001b[0m \u001b[32m112.3/112.3 kB\u001b[0m \u001b[31m12.8 MB/s\u001b[0m eta \u001b[36m0:00:00\u001b[0m\n",
            "\u001b[?25hCollecting Pillow~=9.2.0 (from QuantumGRN==1.0.1)\n",
            "  Downloading Pillow-9.2.0-cp310-cp310-manylinux_2_28_x86_64.whl (3.2 MB)\n",
            "\u001b[2K     \u001b[90m━━━━━━━━━━━━━━━━━━━━━━━━━━━━━━━━━━━━━━━━\u001b[0m \u001b[32m3.2/3.2 MB\u001b[0m \u001b[31m86.5 MB/s\u001b[0m eta \u001b[36m0:00:00\u001b[0m\n",
            "\u001b[?25hCollecting ply~=3.11 (from QuantumGRN==1.0.1)\n",
            "  Downloading ply-3.11-py2.py3-none-any.whl (49 kB)\n",
            "\u001b[2K     \u001b[90m━━━━━━━━━━━━━━━━━━━━━━━━━━━━━━━━━━━━━━━━\u001b[0m \u001b[32m49.6/49.6 kB\u001b[0m \u001b[31m7.5 MB/s\u001b[0m eta \u001b[36m0:00:00\u001b[0m\n",
            "\u001b[?25hRequirement already satisfied: psutil~=5.9.1 in /usr/local/lib/python3.10/dist-packages (from QuantumGRN==1.0.1) (5.9.5)\n",
            "Collecting pycairo~=1.21.0 (from QuantumGRN==1.0.1)\n",
            "  Downloading pycairo-1.21.0.tar.gz (340 kB)\n",
            "\u001b[2K     \u001b[90m━━━━━━━━━━━━━━━━━━━━━━━━━━━━━━━━━━━━━━━━\u001b[0m \u001b[32m340.7/340.7 kB\u001b[0m \u001b[31m39.5 MB/s\u001b[0m eta \u001b[36m0:00:00\u001b[0m\n",
            "\u001b[?25h  Installing build dependencies ... \u001b[?25l\u001b[?25hdone\n",
            "  Getting requirements to build wheel ... \u001b[?25l\u001b[?25hdone\n",
            "  Preparing metadata (pyproject.toml) ... \u001b[?25l\u001b[?25hdone\n",
            "Requirement already satisfied: pycparser~=2.21 in /usr/local/lib/python3.10/dist-packages (from QuantumGRN==1.0.1) (2.22)\n",
            "Collecting pylatexenc~=2.10 (from QuantumGRN==1.0.1)\n",
            "  Downloading pylatexenc-2.10.tar.gz (162 kB)\n",
            "\u001b[2K     \u001b[90m━━━━━━━━━━━━━━━━━━━━━━━━━━━━━━━━━━━━━━━━\u001b[0m \u001b[32m162.6/162.6 kB\u001b[0m \u001b[31m19.9 MB/s\u001b[0m eta \u001b[36m0:00:00\u001b[0m\n",
            "\u001b[?25h  Preparing metadata (setup.py) ... \u001b[?25l\u001b[?25hdone\n",
            "Collecting pyparsing~=3.0.9 (from QuantumGRN==1.0.1)\n",
            "  Downloading pyparsing-3.0.9-py3-none-any.whl (98 kB)\n",
            "\u001b[2K     \u001b[90m━━━━━━━━━━━━━━━━━━━━━━━━━━━━━━━━━━━━━━━━\u001b[0m \u001b[32m98.3/98.3 kB\u001b[0m \u001b[31m14.4 MB/s\u001b[0m eta \u001b[36m0:00:00\u001b[0m\n",
            "\u001b[?25hRequirement already satisfied: python-dateutil~=2.8.2 in /usr/local/lib/python3.10/dist-packages (from QuantumGRN==1.0.1) (2.8.2)\n",
            "Collecting pytz~=2022.1 (from QuantumGRN==1.0.1)\n",
            "  Downloading pytz-2022.7.1-py2.py3-none-any.whl (499 kB)\n",
            "\u001b[2K     \u001b[90m━━━━━━━━━━━━━━━━━━━━━━━━━━━━━━━━━━━━━━━━\u001b[0m \u001b[32m499.4/499.4 kB\u001b[0m \u001b[31m46.1 MB/s\u001b[0m eta \u001b[36m0:00:00\u001b[0m\n",
            "\u001b[?25hCollecting qiskit~=0.37.0 (from QuantumGRN==1.0.1)\n",
            "  Downloading qiskit-0.37.2.tar.gz (13 kB)\n",
            "  Preparing metadata (setup.py) ... \u001b[?25l\u001b[?25hdone\n",
            "Collecting qiskit-aer~=0.10.4 (from QuantumGRN==1.0.1)\n",
            "  Downloading qiskit_aer-0.10.4-cp310-cp310-manylinux_2_17_x86_64.manylinux2014_x86_64.whl (19.1 MB)\n",
            "\u001b[2K     \u001b[90m━━━━━━━━━━━━━━━━━━━━━━━━━━━━━━━━━━━━━━━━\u001b[0m \u001b[32m19.1/19.1 MB\u001b[0m \u001b[31m11.5 MB/s\u001b[0m eta \u001b[36m0:00:00\u001b[0m\n",
            "\u001b[?25hCollecting qiskit-ibmq-provider~=0.19.2 (from QuantumGRN==1.0.1)\n",
            "  Downloading qiskit_ibmq_provider-0.19.2-py3-none-any.whl (240 kB)\n",
            "\u001b[2K     \u001b[90m━━━━━━━━━━━━━━━━━━━━━━━━━━━━━━━━━━━━━━━━\u001b[0m \u001b[32m240.4/240.4 kB\u001b[0m \u001b[31m26.9 MB/s\u001b[0m eta \u001b[36m0:00:00\u001b[0m\n",
            "\u001b[?25hCollecting qiskit-terra~=0.21.0 (from QuantumGRN==1.0.1)\n",
            "  Downloading qiskit_terra-0.21.2-cp310-cp310-manylinux_2_17_x86_64.manylinux2014_x86_64.whl (6.7 MB)\n",
            "\u001b[2K     \u001b[90m━━━━━━━━━━━━━━━━━━━━━━━━━━━━━━━━━━━━━━━━\u001b[0m \u001b[32m6.7/6.7 MB\u001b[0m \u001b[31m13.7 MB/s\u001b[0m eta \u001b[36m0:00:00\u001b[0m\n",
            "\u001b[?25hCollecting requests~=2.28.1 (from QuantumGRN==1.0.1)\n",
            "  Downloading requests-2.28.2-py3-none-any.whl (62 kB)\n",
            "\u001b[2K     \u001b[90m━━━━━━━━━━━━━━━━━━━━━━━━━━━━━━━━━━━━━━━━\u001b[0m \u001b[32m62.8/62.8 kB\u001b[0m \u001b[31m8.5 MB/s\u001b[0m eta \u001b[36m0:00:00\u001b[0m\n",
            "\u001b[?25hCollecting requests-ntlm~=1.1.0 (from QuantumGRN==1.0.1)\n",
            "  Downloading requests_ntlm-1.1.0-py2.py3-none-any.whl (5.7 kB)\n",
            "Collecting retworkx~=0.11.0 (from QuantumGRN==1.0.1)\n",
            "  Downloading retworkx-0.11.0-cp310-cp310-manylinux_2_5_x86_64.manylinux1_x86_64.manylinux_2_12_x86_64.manylinux2010_x86_64.whl (1.6 MB)\n",
            "\u001b[2K     \u001b[90m━━━━━━━━━━━━━━━━━━━━━━━━━━━━━━━━━━━━━━━━\u001b[0m \u001b[32m1.6/1.6 MB\u001b[0m \u001b[31m20.2 MB/s\u001b[0m eta \u001b[36m0:00:00\u001b[0m\n",
            "\u001b[?25hCollecting scipy~=1.8.1 (from QuantumGRN==1.0.1)\n",
            "  Downloading scipy-1.8.1-cp310-cp310-manylinux_2_17_x86_64.manylinux2014_x86_64.whl (42.2 MB)\n",
            "\u001b[2K     \u001b[90m━━━━━━━━━━━━━━━━━━━━━━━━━━━━━━━━━━━━━━━━\u001b[0m \u001b[32m42.2/42.2 MB\u001b[0m \u001b[31m18.8 MB/s\u001b[0m eta \u001b[36m0:00:00\u001b[0m\n",
            "\u001b[?25hRequirement already satisfied: six~=1.16.0 in /usr/local/lib/python3.10/dist-packages (from QuantumGRN==1.0.1) (1.16.0)\n",
            "Collecting stevedore~=3.5.0 (from QuantumGRN==1.0.1)\n",
            "  Downloading stevedore-3.5.2-py3-none-any.whl (50 kB)\n",
            "\u001b[2K     \u001b[90m━━━━━━━━━━━━━━━━━━━━━━━━━━━━━━━━━━━━━━━━\u001b[0m \u001b[32m50.2/50.2 kB\u001b[0m \u001b[31m5.5 MB/s\u001b[0m eta \u001b[36m0:00:00\u001b[0m\n",
            "\u001b[?25hCollecting sympy~=1.10.1 (from QuantumGRN==1.0.1)\n",
            "  Downloading sympy-1.10.1-py3-none-any.whl (6.4 MB)\n",
            "\u001b[2K     \u001b[90m━━━━━━━━━━━━━━━━━━━━━━━━━━━━━━━━━━━━━━━━\u001b[0m \u001b[32m6.4/6.4 MB\u001b[0m \u001b[31m74.6 MB/s\u001b[0m eta \u001b[36m0:00:00\u001b[0m\n",
            "\u001b[?25hCollecting texttable~=1.6.4 (from QuantumGRN==1.0.1)\n",
            "  Downloading texttable-1.6.7-py2.py3-none-any.whl (10 kB)\n",
            "Collecting tweedledum~=1.1.1 (from QuantumGRN==1.0.1)\n",
            "  Downloading tweedledum-1.1.1-cp310-cp310-manylinux_2_12_x86_64.manylinux2010_x86_64.whl (929 kB)\n",
            "\u001b[2K     \u001b[90m━━━━━━━━━━━━━━━━━━━━━━━━━━━━━━━━━━━━━━━━\u001b[0m \u001b[32m929.7/929.7 kB\u001b[0m \u001b[31m55.4 MB/s\u001b[0m eta \u001b[36m0:00:00\u001b[0m\n",
            "\u001b[?25hCollecting urllib3~=1.26.9 (from QuantumGRN==1.0.1)\n",
            "  Downloading urllib3-1.26.18-py2.py3-none-any.whl (143 kB)\n",
            "\u001b[2K     \u001b[90m━━━━━━━━━━━━━━━━━━━━━━━━━━━━━━━━━━━━━━━━\u001b[0m \u001b[32m143.8/143.8 kB\u001b[0m \u001b[31m17.5 MB/s\u001b[0m eta \u001b[36m0:00:00\u001b[0m\n",
            "\u001b[?25hCollecting websocket-client~=1.3.3 (from QuantumGRN==1.0.1)\n",
            "  Downloading websocket_client-1.3.3-py3-none-any.whl (54 kB)\n",
            "\u001b[2K     \u001b[90m━━━━━━━━━━━━━━━━━━━━━━━━━━━━━━━━━━━━━━━━\u001b[0m \u001b[32m54.3/54.3 kB\u001b[0m \u001b[31m6.8 MB/s\u001b[0m eta \u001b[36m0:00:00\u001b[0m\n",
            "\u001b[?25hCollecting websockets~=10.3 (from QuantumGRN==1.0.1)\n",
            "  Downloading websockets-10.4-cp310-cp310-manylinux_2_5_x86_64.manylinux1_x86_64.manylinux_2_17_x86_64.manylinux2014_x86_64.whl (106 kB)\n",
            "\u001b[2K     \u001b[90m━━━━━━━━━━━━━━━━━━━━━━━━━━━━━━━━━━━━━━━━\u001b[0m \u001b[32m106.8/106.8 kB\u001b[0m \u001b[31m13.3 MB/s\u001b[0m eta \u001b[36m0:00:00\u001b[0m\n",
            "\u001b[?25hCollecting symengine>=0.9 (from qiskit-terra~=0.21.0->QuantumGRN==1.0.1)\n",
            "  Downloading symengine-0.11.0-cp310-cp310-manylinux_2_12_x86_64.manylinux2010_x86_64.whl (39.4 MB)\n",
            "\u001b[2K     \u001b[90m━━━━━━━━━━━━━━━━━━━━━━━━━━━━━━━━━━━━━━━━\u001b[0m \u001b[32m39.4/39.4 MB\u001b[0m \u001b[31m11.3 MB/s\u001b[0m eta \u001b[36m0:00:00\u001b[0m\n",
            "\u001b[?25hBuilding wheels for collected packages: QuantumGRN, pycairo, pylatexenc, qiskit\n",
            "  Building wheel for QuantumGRN (setup.py) ... \u001b[?25l\u001b[?25hdone\n",
            "  Created wheel for QuantumGRN: filename=QuantumGRN-1.0.1-py3-none-any.whl size=19146 sha256=12e51c71f6c9f0e719c6bd5f07c6825cf1d2bd147db9914b4a2e244220922fd3\n",
            "  Stored in directory: /tmp/pip-ephem-wheel-cache-bv6d786w/wheels/9c/7c/fd/a4f23bc426ad8f55d820f50107118c7694428a7172323e5091\n",
            "  Building wheel for pycairo (pyproject.toml) ... \u001b[?25l\u001b[?25hdone\n",
            "  Created wheel for pycairo: filename=pycairo-1.21.0-cp310-cp310-linux_x86_64.whl size=318468 sha256=0c9c4deda61caa74a76d768698826b41ed15ce07cc1b0e4da85b8718966e5b6d\n",
            "  Stored in directory: /root/.cache/pip/wheels/d4/cf/25/129fbd30fd8a5625b72581c5d49031a39e61604bf3f0217119\n",
            "  Building wheel for pylatexenc (setup.py) ... \u001b[?25l\u001b[?25hdone\n",
            "  Created wheel for pylatexenc: filename=pylatexenc-2.10-py3-none-any.whl size=136816 sha256=2c195aebf698043c0771db6132a0df36a62fec8e4e7c7a36acac9fc5fa19fc09\n",
            "  Stored in directory: /root/.cache/pip/wheels/d3/31/8b/e09b0386afd80cfc556c00408c9aeea5c35c4d484a9c762fd5\n",
            "  Building wheel for qiskit (setup.py) ... \u001b[?25l\u001b[?25hdone\n",
            "  Created wheel for qiskit: filename=qiskit-0.37.2-py3-none-any.whl size=12085 sha256=01bdd6819efce00008acb3f527d10b917e7630489660ce0d35894197ac726e29\n",
            "  Stored in directory: /root/.cache/pip/wheels/16/82/25/2a883979892683b579d6552c68d08263311991eeb92a654ab9\n",
            "Successfully built QuantumGRN pycairo pylatexenc qiskit\n",
            "Installing collected packages: texttable, pytz, pylatexenc, ply, mpmath, websockets, websocket-client, urllib3, tweedledum, sympy, symengine, pyparsing, pycairo, Pillow, pbr, numpy, ntlm-auth, igraph, fonttools, dill, cycler, charset-normalizer, cffi, certifi, stevedore, scipy, retworkx, requests, pandas, packaging, cryptography, requests-ntlm, qiskit-terra, matplotlib, qiskit-ibmq-provider, qiskit-aer, qiskit, QuantumGRN\n",
            "  Attempting uninstall: pytz\n",
            "    Found existing installation: pytz 2023.4\n",
            "    Uninstalling pytz-2023.4:\n",
            "      Successfully uninstalled pytz-2023.4\n",
            "  Attempting uninstall: mpmath\n",
            "    Found existing installation: mpmath 1.3.0\n",
            "    Uninstalling mpmath-1.3.0:\n",
            "      Successfully uninstalled mpmath-1.3.0\n",
            "  Attempting uninstall: websocket-client\n",
            "    Found existing installation: websocket-client 1.7.0\n",
            "    Uninstalling websocket-client-1.7.0:\n",
            "      Successfully uninstalled websocket-client-1.7.0\n",
            "  Attempting uninstall: urllib3\n",
            "    Found existing installation: urllib3 2.0.7\n",
            "    Uninstalling urllib3-2.0.7:\n",
            "      Successfully uninstalled urllib3-2.0.7\n",
            "  Attempting uninstall: sympy\n",
            "    Found existing installation: sympy 1.12\n",
            "    Uninstalling sympy-1.12:\n",
            "      Successfully uninstalled sympy-1.12\n",
            "  Attempting uninstall: pyparsing\n",
            "    Found existing installation: pyparsing 3.1.2\n",
            "    Uninstalling pyparsing-3.1.2:\n",
            "      Successfully uninstalled pyparsing-3.1.2\n",
            "  Attempting uninstall: pycairo\n",
            "    Found existing installation: pycairo 1.26.0\n",
            "    Uninstalling pycairo-1.26.0:\n",
            "      Successfully uninstalled pycairo-1.26.0\n",
            "  Attempting uninstall: Pillow\n",
            "    Found existing installation: Pillow 9.4.0\n",
            "    Uninstalling Pillow-9.4.0:\n",
            "      Successfully uninstalled Pillow-9.4.0\n",
            "  Attempting uninstall: numpy\n",
            "    Found existing installation: numpy 1.25.2\n",
            "    Uninstalling numpy-1.25.2:\n",
            "      Successfully uninstalled numpy-1.25.2\n",
            "  Attempting uninstall: fonttools\n",
            "    Found existing installation: fonttools 4.50.0\n",
            "    Uninstalling fonttools-4.50.0:\n",
            "      Successfully uninstalled fonttools-4.50.0\n",
            "  Attempting uninstall: cycler\n",
            "    Found existing installation: cycler 0.12.1\n",
            "    Uninstalling cycler-0.12.1:\n",
            "      Successfully uninstalled cycler-0.12.1\n",
            "  Attempting uninstall: charset-normalizer\n",
            "    Found existing installation: charset-normalizer 3.3.2\n",
            "    Uninstalling charset-normalizer-3.3.2:\n",
            "      Successfully uninstalled charset-normalizer-3.3.2\n",
            "  Attempting uninstall: cffi\n",
            "    Found existing installation: cffi 1.16.0\n",
            "    Uninstalling cffi-1.16.0:\n",
            "      Successfully uninstalled cffi-1.16.0\n",
            "  Attempting uninstall: certifi\n",
            "    Found existing installation: certifi 2024.2.2\n",
            "    Uninstalling certifi-2024.2.2:\n",
            "      Successfully uninstalled certifi-2024.2.2\n",
            "  Attempting uninstall: scipy\n",
            "    Found existing installation: scipy 1.11.4\n",
            "    Uninstalling scipy-1.11.4:\n",
            "      Successfully uninstalled scipy-1.11.4\n",
            "  Attempting uninstall: requests\n",
            "    Found existing installation: requests 2.31.0\n",
            "    Uninstalling requests-2.31.0:\n",
            "      Successfully uninstalled requests-2.31.0\n",
            "  Attempting uninstall: pandas\n",
            "    Found existing installation: pandas 2.0.3\n",
            "    Uninstalling pandas-2.0.3:\n",
            "      Successfully uninstalled pandas-2.0.3\n",
            "  Attempting uninstall: packaging\n",
            "    Found existing installation: packaging 24.0\n",
            "    Uninstalling packaging-24.0:\n",
            "      Successfully uninstalled packaging-24.0\n",
            "  Attempting uninstall: cryptography\n",
            "    Found existing installation: cryptography 42.0.5\n",
            "    Uninstalling cryptography-42.0.5:\n",
            "      Successfully uninstalled cryptography-42.0.5\n",
            "  Attempting uninstall: matplotlib\n",
            "    Found existing installation: matplotlib 3.7.1\n",
            "    Uninstalling matplotlib-3.7.1:\n",
            "      Successfully uninstalled matplotlib-3.7.1\n",
            "\u001b[31mERROR: pip's dependency resolver does not currently take into account all the packages that are installed. This behaviour is the source of the following dependency conflicts.\n",
            "torch 2.2.1+cu121 requires nvidia-cublas-cu12==12.1.3.1; platform_system == \"Linux\" and platform_machine == \"x86_64\", which is not installed.\n",
            "torch 2.2.1+cu121 requires nvidia-cuda-cupti-cu12==12.1.105; platform_system == \"Linux\" and platform_machine == \"x86_64\", which is not installed.\n",
            "torch 2.2.1+cu121 requires nvidia-cuda-nvrtc-cu12==12.1.105; platform_system == \"Linux\" and platform_machine == \"x86_64\", which is not installed.\n",
            "torch 2.2.1+cu121 requires nvidia-cuda-runtime-cu12==12.1.105; platform_system == \"Linux\" and platform_machine == \"x86_64\", which is not installed.\n",
            "torch 2.2.1+cu121 requires nvidia-cudnn-cu12==8.9.2.26; platform_system == \"Linux\" and platform_machine == \"x86_64\", which is not installed.\n",
            "torch 2.2.1+cu121 requires nvidia-cufft-cu12==11.0.2.54; platform_system == \"Linux\" and platform_machine == \"x86_64\", which is not installed.\n",
            "torch 2.2.1+cu121 requires nvidia-curand-cu12==10.3.2.106; platform_system == \"Linux\" and platform_machine == \"x86_64\", which is not installed.\n",
            "torch 2.2.1+cu121 requires nvidia-cusolver-cu12==11.4.5.107; platform_system == \"Linux\" and platform_machine == \"x86_64\", which is not installed.\n",
            "torch 2.2.1+cu121 requires nvidia-cusparse-cu12==12.1.0.106; platform_system == \"Linux\" and platform_machine == \"x86_64\", which is not installed.\n",
            "torch 2.2.1+cu121 requires nvidia-nccl-cu12==2.19.3; platform_system == \"Linux\" and platform_machine == \"x86_64\", which is not installed.\n",
            "torch 2.2.1+cu121 requires nvidia-nvtx-cu12==12.1.105; platform_system == \"Linux\" and platform_machine == \"x86_64\", which is not installed.\n",
            "bigframes 1.0.0 requires matplotlib>=3.7.1, but you have matplotlib 3.5.3 which is incompatible.\n",
            "bigframes 1.0.0 requires pandas>=1.5.0, but you have pandas 1.4.4 which is incompatible.\n",
            "chex 0.1.86 requires numpy>=1.24.1, but you have numpy 1.23.5 which is incompatible.\n",
            "google-colab 1.0.0 requires pandas==2.0.3, but you have pandas 1.4.4 which is incompatible.\n",
            "google-colab 1.0.0 requires requests==2.31.0, but you have requests 2.28.2 which is incompatible.\n",
            "jax 0.4.23 requires scipy>=1.9, but you have scipy 1.8.1 which is incompatible.\n",
            "jaxlib 0.4.23+cuda12.cudnn89 requires scipy>=1.9, but you have scipy 1.8.1 which is incompatible.\n",
            "pandas-stubs 2.0.3.230814 requires numpy>=1.25.0; python_version >= \"3.9\", but you have numpy 1.23.5 which is incompatible.\n",
            "plotnine 0.12.4 requires matplotlib>=3.6.0, but you have matplotlib 3.5.3 which is incompatible.\n",
            "plotnine 0.12.4 requires pandas>=1.5.0, but you have pandas 1.4.4 which is incompatible.\n",
            "pyopenssl 24.1.0 requires cryptography<43,>=41.0.5, but you have cryptography 37.0.4 which is incompatible.\n",
            "yfinance 0.2.37 requires requests>=2.31, but you have requests 2.28.2 which is incompatible.\u001b[0m\u001b[31m\n",
            "\u001b[0mSuccessfully installed Pillow-9.2.0 QuantumGRN-1.0.1 certifi-2022.6.15.2 cffi-1.15.1 charset-normalizer-2.1.1 cryptography-37.0.4 cycler-0.11.0 dill-0.3.5.1 fonttools-4.33.3 igraph-0.9.11 matplotlib-3.5.3 mpmath-1.2.1 ntlm-auth-1.5.0 numpy-1.23.5 packaging-21.3 pandas-1.4.4 pbr-5.9.0 ply-3.11 pycairo-1.21.0 pylatexenc-2.10 pyparsing-3.0.9 pytz-2022.7.1 qiskit-0.37.2 qiskit-aer-0.10.4 qiskit-ibmq-provider-0.19.2 qiskit-terra-0.21.2 requests-2.28.2 requests-ntlm-1.1.0 retworkx-0.11.0 scipy-1.8.1 stevedore-3.5.2 symengine-0.11.0 sympy-1.10.1 texttable-1.6.7 tweedledum-1.1.1 urllib3-1.26.18 websocket-client-1.3.3 websockets-10.4\n"
          ]
        },
        {
          "output_type": "display_data",
          "data": {
            "application/vnd.colab-display-data+json": {
              "pip_warning": {
                "packages": [
                  "PIL",
                  "certifi",
                  "cffi",
                  "cycler",
                  "matplotlib",
                  "mpl_toolkits",
                  "numpy",
                  "packaging"
                ]
              },
              "id": "a26b47e7ec834e1d8c5c09f95a2d182d"
            }
          },
          "metadata": {}
        }
      ]
    },
    {
      "cell_type": "code",
      "source": [
        "import os\n",
        "import numpy as np\n",
        "import pandas as pd\n",
        "import matplotlib\n",
        "from alz-snqnet import *"
      ],
      "metadata": {
        "id": "DRIK9sY8yvUe"
      },
      "execution_count": null,
      "outputs": []
    },
    {
      "cell_type": "code",
      "source": [
        "from google.colab import drive\n",
        "drive.mount('/content/drive')\n",
        "file_path = '/content/drive/MyDrive/act_new.csv'"
      ],
      "metadata": {
        "colab": {
          "base_uri": "https://localhost:8080/"
        },
        "id": "7CLEIwEY6lRU",
        "outputId": "941c8b3a-fabc-480a-97ac-05cfc6c46469"
      },
      "execution_count": null,
      "outputs": [
        {
          "output_type": "stream",
          "name": "stdout",
          "text": [
            "Mounted at /content/drive\n"
          ]
        }
      ]
    },
    {
      "cell_type": "code",
      "source": [
        "import qiskit\n",
        "from qiskit import QuantumCircuit\n",
        "path = os.getcwd()\n",
        "filename=\"/content/drive/MyDrive/act_new.csv\"\n",
        "df = pd.read_csv(os.path.join(path, filename))\n",
        "df = df.set_index('Unnamed: 0').T\n",
        "ncells, ngenes = df.shape\n",
        "df = qsc_order_gene(df)\n",
        "genes = df.columns.to_list()\n",
        "p_obs = qsc_distribution(df)\n",
        "activation = qsc_activation_ratios(df)\n",
        "\n",
        "mask = mini_hist(ngenes, p_obs, limit=0.01, ymax=0.20,\n",
        "                 title=\"Observed distribution\",\n",
        "                 filename=\"02_p_obs.svg\")\n",
        "\n",
        "theta = theta_init(genes, activation_ratios=activation)\n",
        "edges = edges_init(genes)\n",
        "\n",
        "qgrn = model(ncells, genes, theta, edges, p_obs, epochs=1000)\n",
        "qgrn.train()\n",
        "\n",
        "qgrn.train()\n",
        "p_out =qgrn.p_out.reshape(2**ngenes,)\n",
        "p_qiskit = qgrn.run_qiskit(filename=\"02_qgrn_circuit.svg\")\n",
        "\n",
        "comparison_hist(ngenes, p_obs, p_out, limit=0.01, ymax=0.20, mask=mask,\n",
        "                filename=\"02_comparison_obs_out.svg\", tags=[\"p^{obs}\", \"p^{out}\"])\n",
        "\n",
        "comparison_hist(ngenes, p_obs, p_qiskit, limit=0.01, ymax=0.20, mask=mask,\n",
        "                filename=\"02_comparison_obs_qiskit.svg\", tags=[\"p^{obs}\", \"p^{qiskit}\"])\n",
        "\n",
        "draw_network(genes, edges, qgrn.theta, filename=\"02_qgrn_network.svg\")"
      ],
      "metadata": {
        "colab": {
          "base_uri": "https://localhost:8080/",
          "height": 944
        },
        "id": "srYO39aJ6P6X",
        "outputId": "22e6e32f-cb79-4ceb-d68f-0f4889b6d05b"
      },
      "execution_count": null,
      "outputs": [
        {
          "output_type": "stream",
          "name": "stdout",
          "text": [
            "2024-04-05 19:16:24 | I | The dataframe genes are ordered\n",
            "2024-04-05 19:16:24 | I | The observed probability `p_obs` is calculated\n",
            "2024-04-05 19:16:24 | I | Activation ratios are computed\n",
            "2024-04-05 19:16:24 | I | Plotting the Observed distribution in a barplot and exporting to 02_p_obs.svg file.\n",
            "2024-04-05 19:16:24 | I | Theta series is initialized using zeros as method with activation values\n",
            "2024-04-05 19:16:24 | I | Edges for the QuantumGRN and quantum circuit are created for 8 genes\n",
            "2024-04-05 19:16:24 | I | The QuantumGRN model is been initialized with 8 genes and 1040 cells\n"
          ]
        },
        {
          "output_type": "error",
          "ename": "NameError",
          "evalue": "name 'QuantumCircuit' is not defined",
          "traceback": [
            "\u001b[0;31m---------------------------------------------------------------------------\u001b[0m",
            "\u001b[0;31mNameError\u001b[0m                                 Traceback (most recent call last)",
            "\u001b[0;32m<ipython-input-4-10439983ebc5>\u001b[0m in \u001b[0;36m<cell line: 20>\u001b[0;34m()\u001b[0m\n\u001b[1;32m     18\u001b[0m \u001b[0medges\u001b[0m \u001b[0;34m=\u001b[0m \u001b[0medges_init\u001b[0m\u001b[0;34m(\u001b[0m\u001b[0mgenes\u001b[0m\u001b[0;34m)\u001b[0m\u001b[0;34m\u001b[0m\u001b[0;34m\u001b[0m\u001b[0m\n\u001b[1;32m     19\u001b[0m \u001b[0;34m\u001b[0m\u001b[0m\n\u001b[0;32m---> 20\u001b[0;31m \u001b[0mqgrn\u001b[0m \u001b[0;34m=\u001b[0m \u001b[0mmodel\u001b[0m\u001b[0;34m(\u001b[0m\u001b[0mncells\u001b[0m\u001b[0;34m,\u001b[0m \u001b[0mgenes\u001b[0m\u001b[0;34m,\u001b[0m \u001b[0mtheta\u001b[0m\u001b[0;34m,\u001b[0m \u001b[0medges\u001b[0m\u001b[0;34m,\u001b[0m \u001b[0mp_obs\u001b[0m\u001b[0;34m,\u001b[0m \u001b[0mepochs\u001b[0m\u001b[0;34m=\u001b[0m\u001b[0;36m1000\u001b[0m\u001b[0;34m)\u001b[0m\u001b[0;34m\u001b[0m\u001b[0;34m\u001b[0m\u001b[0m\n\u001b[0m\u001b[1;32m     21\u001b[0m \u001b[0mqgrn\u001b[0m\u001b[0;34m.\u001b[0m\u001b[0mtrain\u001b[0m\u001b[0;34m(\u001b[0m\u001b[0;34m)\u001b[0m\u001b[0;34m\u001b[0m\u001b[0;34m\u001b[0m\u001b[0m\n\u001b[1;32m     22\u001b[0m \u001b[0;34m\u001b[0m\u001b[0m\n",
            "\u001b[0;32m/usr/local/lib/python3.10/dist-packages/qscgrn/optimizer.py\u001b[0m in \u001b[0;36m__init__\u001b[0;34m(self, ncells, genes, theta, edges, p_obs, drop_zero, epochs, learning_rate, method, train_encoder, loss_threshold, save_theta)\u001b[0m\n\u001b[1;32m    148\u001b[0m \u001b[0;34m\u001b[0m\u001b[0m\n\u001b[1;32m    149\u001b[0m         \u001b[0mself\u001b[0m\u001b[0;34m.\u001b[0m\u001b[0mgradient\u001b[0m \u001b[0;34m=\u001b[0m \u001b[0;32mNone\u001b[0m\u001b[0;34m\u001b[0m\u001b[0;34m\u001b[0m\u001b[0m\n\u001b[0;32m--> 150\u001b[0;31m         \u001b[0mself\u001b[0m\u001b[0;34m.\u001b[0m\u001b[0mgenerate_circuit\u001b[0m\u001b[0;34m(\u001b[0m\u001b[0;34m)\u001b[0m\u001b[0;34m\u001b[0m\u001b[0;34m\u001b[0m\u001b[0m\n\u001b[0m\u001b[1;32m    151\u001b[0m         \u001b[0mself\u001b[0m\u001b[0;34m.\u001b[0m\u001b[0mcreate_gradient\u001b[0m\u001b[0;34m(\u001b[0m\u001b[0;34m)\u001b[0m\u001b[0;34m\u001b[0m\u001b[0;34m\u001b[0m\u001b[0m\n\u001b[1;32m    152\u001b[0m \u001b[0;34m\u001b[0m\u001b[0m\n",
            "\u001b[0;32m/usr/local/lib/python3.10/dist-packages/qscgrn/qcircuit/quantum_circuit.py\u001b[0m in \u001b[0;36mgenerate_circuit\u001b[0;34m(self)\u001b[0m\n\u001b[1;32m    186\u001b[0m         \u001b[0mself\u001b[0m\u001b[0;34m.\u001b[0m\u001b[0mcircuit\u001b[0m \u001b[0;34m=\u001b[0m \u001b[0;32mFalse\u001b[0m\u001b[0;34m\u001b[0m\u001b[0;34m\u001b[0m\u001b[0m\n\u001b[1;32m    187\u001b[0m         \u001b[0mself\u001b[0m\u001b[0;34m.\u001b[0m\u001b[0mcompute_encoder\u001b[0m\u001b[0;34m(\u001b[0m\u001b[0;34m)\u001b[0m\u001b[0;34m\u001b[0m\u001b[0;34m\u001b[0m\u001b[0m\n\u001b[0;32m--> 188\u001b[0;31m         \u001b[0mself\u001b[0m\u001b[0;34m.\u001b[0m\u001b[0mcompute_regulation\u001b[0m\u001b[0;34m(\u001b[0m\u001b[0;34m)\u001b[0m\u001b[0;34m\u001b[0m\u001b[0;34m\u001b[0m\u001b[0m\n\u001b[0m\u001b[1;32m    189\u001b[0m         \u001b[0mself\u001b[0m\u001b[0;34m.\u001b[0m\u001b[0mcircuit\u001b[0m \u001b[0;34m=\u001b[0m \u001b[0;32mTrue\u001b[0m\u001b[0;34m\u001b[0m\u001b[0;34m\u001b[0m\u001b[0m\n\u001b[1;32m    190\u001b[0m \u001b[0;34m\u001b[0m\u001b[0m\n",
            "\u001b[0;32m/usr/local/lib/python3.10/dist-packages/qscgrn/qcircuit/quantum_circuit.py\u001b[0m in \u001b[0;36mcompute_regulation\u001b[0;34m(self)\u001b[0m\n\u001b[1;32m    169\u001b[0m \u001b[0;34m\u001b[0m\u001b[0m\n\u001b[1;32m    170\u001b[0m     \u001b[0;32mdef\u001b[0m \u001b[0mcompute_regulation\u001b[0m\u001b[0;34m(\u001b[0m\u001b[0mself\u001b[0m\u001b[0;34m)\u001b[0m\u001b[0;34m:\u001b[0m\u001b[0;34m\u001b[0m\u001b[0;34m\u001b[0m\u001b[0m\n\u001b[0;32m--> 171\u001b[0;31m         \u001b[0mself\u001b[0m\u001b[0;34m.\u001b[0m\u001b[0mregulation\u001b[0m \u001b[0;34m=\u001b[0m \u001b[0mQuantumCircuit\u001b[0m\u001b[0;34m(\u001b[0m\u001b[0mlen\u001b[0m\u001b[0;34m(\u001b[0m\u001b[0mself\u001b[0m\u001b[0;34m.\u001b[0m\u001b[0mgenes\u001b[0m\u001b[0;34m)\u001b[0m\u001b[0;34m)\u001b[0m\u001b[0;34m\u001b[0m\u001b[0;34m\u001b[0m\u001b[0m\n\u001b[0m\u001b[1;32m    172\u001b[0m         \u001b[0;32mfor\u001b[0m \u001b[0mtarget_qubit\u001b[0m \u001b[0;32min\u001b[0m \u001b[0mrange\u001b[0m\u001b[0;34m(\u001b[0m\u001b[0mlen\u001b[0m\u001b[0;34m(\u001b[0m\u001b[0mself\u001b[0m\u001b[0;34m.\u001b[0m\u001b[0mgenes\u001b[0m\u001b[0;34m)\u001b[0m \u001b[0;34m-\u001b[0m \u001b[0;36m1\u001b[0m\u001b[0;34m,\u001b[0m \u001b[0;34m-\u001b[0m\u001b[0;36m1\u001b[0m\u001b[0;34m,\u001b[0m \u001b[0;34m-\u001b[0m\u001b[0;36m1\u001b[0m\u001b[0;34m)\u001b[0m\u001b[0;34m:\u001b[0m\u001b[0;34m\u001b[0m\u001b[0;34m\u001b[0m\u001b[0m\n\u001b[1;32m    173\u001b[0m             \u001b[0;32mfor\u001b[0m \u001b[0mcontrol_qubit\u001b[0m \u001b[0;32min\u001b[0m \u001b[0mrange\u001b[0m\u001b[0;34m(\u001b[0m\u001b[0mlen\u001b[0m\u001b[0;34m(\u001b[0m\u001b[0mself\u001b[0m\u001b[0;34m.\u001b[0m\u001b[0mgenes\u001b[0m\u001b[0;34m)\u001b[0m\u001b[0;34m)\u001b[0m\u001b[0;34m:\u001b[0m\u001b[0;34m\u001b[0m\u001b[0;34m\u001b[0m\u001b[0m\n",
            "\u001b[0;31mNameError\u001b[0m: name 'QuantumCircuit' is not defined"
          ]
        },
        {
          "output_type": "display_data",
          "data": {
            "text/plain": [
              "<Figure size 425x400 with 1 Axes>"
            ],
            "image/png": "[encoded data removed]"
          },
          "metadata": {}
        }
      ]
    },
    {
      "cell_type": "code",
      "source": [
        "from google.colab import files\n",
        "files.download(\"02_comparison_obs_out.svg\")\n",
        "files.download(\"02_comparison_obs_qiskit.svg\")"
      ],
      "metadata": {
        "colab": {
          "base_uri": "https://localhost:8080/",
          "height": 17
        },
        "id": "pZlG6wSPZbwr",
        "outputId": "5cbf6b20-83e7-4973-ff83-d139cb84e62a"
      },
      "execution_count": null,
      "outputs": [
        {
          "output_type": "display_data",
          "data": {
            "text/plain": [
              "<IPython.core.display.Javascript object>"
            ],
            "application/javascript": [
              "\n",
              "    async function download(id, filename, size) {\n",
              "      if (!google.colab.kernel.accessAllowed) {\n",
              "        return;\n",
              "      }\n",
              "      const div = document.createElement('div');\n",
              "      const label = document.createElement('label');\n",
              "      label.textContent = `Downloading \"${filename}\": `;\n",
              "      div.appendChild(label);\n",
              "      const progress = document.createElement('progress');\n",
              "      progress.max = size;\n",
              "      div.appendChild(progress);\n",
              "      document.body.appendChild(div);\n",
              "\n",
              "      const buffers = [];\n",
              "      let downloaded = 0;\n",
              "\n",
              "      const channel = await google.colab.kernel.comms.open(id);\n",
              "      // Send a message to notify the kernel that we're ready.\n",
              "      channel.send({})\n",
              "\n",
              "      for await (const message of channel.messages) {\n",
              "        // Send a message to notify the kernel that we're ready.\n",
              "        channel.send({})\n",
              "        if (message.buffers) {\n",
              "          for (const buffer of message.buffers) {\n",
              "            buffers.push(buffer);\n",
              "            downloaded += buffer.byteLength;\n",
              "            progress.value = downloaded;\n",
              "          }\n",
              "        }\n",
              "      }\n",
              "      const blob = new Blob(buffers, {type: 'application/binary'});\n",
              "      const a = document.createElement('a');\n",
              "      a.href = window.URL.createObjectURL(blob);\n",
              "      a.download = filename;\n",
              "      div.appendChild(a);\n",
              "      a.click();\n",
              "      div.remove();\n",
              "    }\n",
              "  "
            ]
          },
          "metadata": {}
        },
        {
          "output_type": "display_data",
          "data": {
            "text/plain": [
              "<IPython.core.display.Javascript object>"
            ],
            "application/javascript": [
              "download(\"download_62670459-d24f-4bdf-9345-655f97fdf6be\", \"02_comparison_obs_out.svg\", 66093)"
            ]
          },
          "metadata": {}
        },
        {
          "output_type": "display_data",
          "data": {
            "text/plain": [
              "<IPython.core.display.Javascript object>"
            ],
            "application/javascript": [
              "\n",
              "    async function download(id, filename, size) {\n",
              "      if (!google.colab.kernel.accessAllowed) {\n",
              "        return;\n",
              "      }\n",
              "      const div = document.createElement('div');\n",
              "      const label = document.createElement('label');\n",
              "      label.textContent = `Downloading \"${filename}\": `;\n",
              "      div.appendChild(label);\n",
              "      const progress = document.createElement('progress');\n",
              "      progress.max = size;\n",
              "      div.appendChild(progress);\n",
              "      document.body.appendChild(div);\n",
              "\n",
              "      const buffers = [];\n",
              "      let downloaded = 0;\n",
              "\n",
              "      const channel = await google.colab.kernel.comms.open(id);\n",
              "      // Send a message to notify the kernel that we're ready.\n",
              "      channel.send({})\n",
              "\n",
              "      for await (const message of channel.messages) {\n",
              "        // Send a message to notify the kernel that we're ready.\n",
              "        channel.send({})\n",
              "        if (message.buffers) {\n",
              "          for (const buffer of message.buffers) {\n",
              "            buffers.push(buffer);\n",
              "            downloaded += buffer.byteLength;\n",
              "            progress.value = downloaded;\n",
              "          }\n",
              "        }\n",
              "      }\n",
              "      const blob = new Blob(buffers, {type: 'application/binary'});\n",
              "      const a = document.createElement('a');\n",
              "      a.href = window.URL.createObjectURL(blob);\n",
              "      a.download = filename;\n",
              "      div.appendChild(a);\n",
              "      a.click();\n",
              "      div.remove();\n",
              "    }\n",
              "  "
            ]
          },
          "metadata": {}
        },
        {
          "output_type": "display_data",
          "data": {
            "text/plain": [
              "<IPython.core.display.Javascript object>"
            ],
            "application/javascript": [
              "download(\"download_f2c71565-d518-4b0c-ad58-520790db10de\", \"02_comparison_obs_qiskit.svg\", 66970)"
            ]
          },
          "metadata": {}
        }
      ]
    },
    {
      "cell_type": "code",
      "source": [],
      "metadata": {
        "id": "z1NnHeXCZhyk"
      },
      "execution_count": null,
      "outputs": []
    },
    {
      "cell_type": "code",
      "source": [
        "print(qgrn.theta.to_string())"
      ],
      "metadata": {
        "colab": {
          "base_uri": "https://localhost:8080/"
        },
        "id": "A8coLnpJQbOt",
        "outputId": "f418ed01-d072-4223-92f5-721604759069"
      },
      "execution_count": null,
      "outputs": [
        {
          "output_type": "stream",
          "name": "stdout",
          "text": [
            "control  target\n",
            "1        1         1.058265\n",
            "         2         0.044794\n",
            "         3         0.050884\n",
            "         4         0.123109\n",
            "         5        -0.054711\n",
            "         6         0.044286\n",
            "         7        -0.000519\n",
            "         8         0.025685\n",
            "2        1         0.044794\n",
            "         2         1.044976\n",
            "         3         0.174487\n",
            "         4        -0.022467\n",
            "         5        -0.025248\n",
            "         6         0.002224\n",
            "         7        -0.047362\n",
            "         8        -0.078536\n",
            "3        1         0.050884\n",
            "         2         0.174487\n",
            "         3         0.773622\n",
            "         4        -0.050870\n",
            "         5        -0.105563\n",
            "         6        -0.066458\n",
            "         7        -0.153903\n",
            "         8         0.074156\n",
            "4        1         0.123109\n",
            "         2        -0.022467\n",
            "         3        -0.050870\n",
            "         4         0.562070\n",
            "         5        -0.058445\n",
            "         6        -0.060104\n",
            "         7        -0.168851\n",
            "         8        -0.019798\n",
            "5        1        -0.054711\n",
            "         2        -0.025248\n",
            "         3        -0.105563\n",
            "         4        -0.058445\n",
            "         5         0.540032\n",
            "         6        -0.112907\n",
            "         7         0.034236\n",
            "         8        -0.029027\n",
            "6        1         0.044286\n",
            "         2         0.002224\n",
            "         3        -0.066458\n",
            "         4        -0.060104\n",
            "         5        -0.112907\n",
            "         6         0.524879\n",
            "         7        -0.033177\n",
            "         8        -0.011903\n",
            "7        1        -0.000519\n",
            "         2        -0.047362\n",
            "         3        -0.153903\n",
            "         4        -0.168851\n",
            "         5         0.034236\n",
            "         6        -0.033177\n",
            "         7         0.485128\n",
            "         8        -0.019015\n",
            "8        1         0.025685\n",
            "         2        -0.078536\n",
            "         3         0.074156\n",
            "         4        -0.019798\n",
            "         5        -0.029027\n",
            "         6        -0.011903\n",
            "         7        -0.019015\n",
            "         8         0.138786\n"
          ]
        }
      ]
    },
    {
      "cell_type": "code",
      "source": [
        "import numpy as np\n",
        "import igraph as ig\n",
        "import pandas as pd\n",
        "\n",
        "# Your provided data\n",
        "data = pd.DataFrame({\n",
        "    1: {1: 1.058265, 2: 0.044794, 3: 0.050884, 4: 0.123109, 5: -0.054711, 6: 0.044286, 7: -0.000519, 8: 0.025685},\n",
        "    2: {1: 0.044794, 2: 1.044976, 3: 0.174487, 4: -0.022467, 5: -0.025248, 6: 0.002224, 7: -0.047362, 8: -0.078536},\n",
        "    3: {1: 0.050884, 2: 0.174487, 3: 0.773622, 4: -0.050870, 5: -0.105563, 6: -0.066458, 7: -0.153903, 8: 0.074156},\n",
        "    4: {1: 0.123109, 2: -0.022467, 3: -0.050870, 4: 0.562070, 5: -0.058445, 6: -0.060104, 7: -0.168851, 8: -0.019798},\n",
        "    5: {1: -0.054711, 2: -0.025248, 3: -0.105563, 4: -0.058445, 5: 0.540032, 6: -0.112907, 7: 0.034236, 8: -0.029027},\n",
        "    6: {1: 0.044286, 2: 0.002224, 3: -0.066458, 4: -0.060104, 5: -0.112907, 6: 0.524879, 7: -0.033177, 8: -0.011903},\n",
        "    7: {1: -0.000519, 2: -0.047362, 3: -0.153903, 4: -0.168851, 5: 0.034236, 6: -0.033177, 7: 0.485128, 8: -0.019015},\n",
        "    8: {1: 0.025685, 2: -0.078536, 3: 0.074156, 4: -0.019798, 5: -0.029027, 6: -0.011903, 7: -0.019015, 8: 0.138786}\n",
        "})\n",
        "\n",
        "# Gene mapping\n",
        "gene_mapping = {\n",
        "    1: 'APP',\n",
        "    2: 'AKT3',\n",
        "    3: 'FGF14',\n",
        "    4: 'SREBF2',\n",
        "    5: 'YY1',\n",
        "    6: 'PLD3',\n",
        "    7: 'GAS7',\n",
        "    8: 'EGR1'\n",
        "}\n",
        "\n",
        "# Extracting unique genes and creating a list\n",
        "genes = [gene_mapping[i] for i in data.columns]\n",
        "\n",
        "# Extracting edges and converting them to tuples\n",
        "edges = [(i, j) for i in data.index for j in data.columns]\n",
        "\n",
        "# Creating a graph\n",
        "g = ig.Graph(directed=True)\n",
        "\n",
        "# Adding vertices with unique integer IDs and gene names as labels\n",
        "for i, gene in enumerate(genes):\n",
        "    g.add_vertex(name=gene, label=gene)\n",
        "\n",
        "# Adding edges with weights based on theta values and curved set to 0.0\n",
        "for i, j in edges:\n",
        "    weight = np.abs(data.loc[i, j]) * 10  # Adjust multiplier as needed\n",
        "    g.add_edge(g.vs.find(name=gene_mapping[i]).index, g.vs.find(name=gene_mapping[j]).index, weight=weight, curved=0.0)\n",
        "\n",
        "# Creating layout coordinates for nodes (Fruchterman-Reingold layout)\n",
        "layout = g.layout(\"fr\")\n",
        "\n",
        "# Plotting the graph\n",
        "\n",
        "ig.plot(g, layout=layout, vertex_size=30, edge_width=g.es[\"weight\"],\n",
        "        edge_color=[\"red\" if theta < 0 else \"green\" for theta in data.values.flatten()],\n",
        "        vertex_label_size=12, vertex_label_color=\"black\",\n",
        "        vertex_label_dist=1.5, bbox=(600, 600), margin=50, target=\"your_output_file3.png\")"
      ],
      "metadata": {
        "colab": {
          "base_uri": "https://localhost:8080/",
          "height": 821
        },
        "id": "1YPRy9pjRNde",
        "outputId": "c03172aa-ffb2-4ef1-ffcc-fc7e9d24ff5b"
      },
      "execution_count": null,
      "outputs": [
        {
          "output_type": "execute_result",
          "data": {
            "text/plain": [
              "<igraph.drawing.Plot at 0x78620e6ef640>"
            ],
            "image/svg+xml": "<?xml version=\"1.0\" encoding=\"UTF-8\"?>\n<svg xmlns=\"http://www.w3.org/2000/svg\" xmlns:xlink=\"http://www.w3.org/1999/xlink\" width=\"600pt\" height=\"600pt\" viewBox=\"0 0 600 600\" version=\"1.1\">\n<defs>\n<g>\n<symbol overflow=\"visible\" id=\"glyph0-0\">\n<path style=\"stroke:none;\" d=\"M 0.40625 0 L 0.40625 -8 L 3.59375 -8 L 3.59375 0 Z M 0.796875 -0.40625 L 3.1875 -0.40625 L 3.1875 -7.59375 L 0.796875 -7.59375 Z M 0.796875 -0.40625 \"/>\n</symbol>\n<symbol overflow=\"visible\" id=\"glyph0-1\">\n<path style=\"stroke:none;\" d=\"M 6.0625 0 L 5.25 -2.234375 L 1.953125 -2.234375 L 1.15625 0 L 0 0 L 2.984375 -7.90625 L 4.265625 -7.90625 L 7.203125 0 Z M 4.109375 -5.59375 C 4.054688 -5.738281 4.003906 -5.882812 3.953125 -6.03125 C 3.898438 -6.1875 3.847656 -6.332031 3.796875 -6.46875 C 3.753906 -6.613281 3.71875 -6.734375 3.6875 -6.828125 C 3.65625 -6.929688 3.628906 -7.007812 3.609375 -7.0625 C 3.597656 -7.007812 3.578125 -6.929688 3.546875 -6.828125 C 3.515625 -6.722656 3.472656 -6.601562 3.421875 -6.46875 C 3.378906 -6.332031 3.332031 -6.1875 3.28125 -6.03125 C 3.238281 -5.882812 3.191406 -5.738281 3.140625 -5.59375 L 2.25 -3.109375 L 4.96875 -3.109375 Z M 4.109375 -5.59375 \"/>\n</symbol>\n<symbol overflow=\"visible\" id=\"glyph0-2\">\n<path style=\"stroke:none;\" d=\"M 6.5625 -5.53125 C 6.5625 -5.207031 6.503906 -4.894531 6.390625 -4.59375 C 6.273438 -4.289062 6.097656 -4.019531 5.859375 -3.78125 C 5.617188 -3.550781 5.320312 -3.363281 4.96875 -3.21875 C 4.613281 -3.082031 4.195312 -3.015625 3.71875 -3.015625 L 2.0625 -3.015625 L 2.0625 0 L 0.953125 0 L 0.953125 -7.90625 L 3.640625 -7.90625 C 4.128906 -7.90625 4.554688 -7.847656 4.921875 -7.734375 C 5.285156 -7.617188 5.585938 -7.457031 5.828125 -7.25 C 6.066406 -7.039062 6.25 -6.789062 6.375 -6.5 C 6.5 -6.21875 6.5625 -5.894531 6.5625 -5.53125 Z M 5.4375 -5.515625 C 5.4375 -6.003906 5.273438 -6.375 4.953125 -6.625 C 4.628906 -6.882812 4.148438 -7.015625 3.515625 -7.015625 L 2.0625 -7.015625 L 2.0625 -3.890625 L 3.5625 -3.890625 C 3.875 -3.890625 4.148438 -3.929688 4.390625 -4.015625 C 4.628906 -4.109375 4.820312 -4.222656 4.96875 -4.359375 C 5.125 -4.503906 5.238281 -4.675781 5.3125 -4.875 C 5.394531 -5.082031 5.4375 -5.296875 5.4375 -5.515625 Z M 5.4375 -5.515625 \"/>\n</symbol>\n<symbol overflow=\"visible\" id=\"glyph0-3\">\n<path style=\"stroke:none;\" d=\"M 5.875 0 L 3.03125 -3.734375 L 2.0625 -2.75 L 2.0625 0 L 0.953125 0 L 0.953125 -7.90625 L 2.0625 -7.90625 L 2.0625 -3.96875 L 5.421875 -7.90625 L 6.734375 -7.90625 L 3.78125 -4.546875 L 7.1875 0 Z M 5.875 0 \"/>\n</symbol>\n<symbol overflow=\"visible\" id=\"glyph0-4\">\n<path style=\"stroke:none;\" d=\"M 4.15625 -6.984375 L 4.15625 0 L 3.046875 0 L 3.046875 -6.984375 L 0.453125 -6.984375 L 0.453125 -7.90625 L 6.75 -7.90625 L 6.75 -6.984375 Z M 4.15625 -6.984375 \"/>\n</symbol>\n<symbol overflow=\"visible\" id=\"glyph0-5\">\n<path style=\"stroke:none;\" d=\"M 6.4375 -2.171875 C 6.4375 -1.816406 6.375 -1.492188 6.25 -1.203125 C 6.132812 -0.921875 5.957031 -0.679688 5.71875 -0.484375 C 5.476562 -0.296875 5.179688 -0.144531 4.828125 -0.03125 C 4.484375 0.0703125 4.085938 0.125 3.640625 0.125 C 3.128906 0.125 2.695312 0.0625 2.34375 -0.0625 C 2 -0.195312 1.710938 -0.367188 1.484375 -0.578125 C 1.253906 -0.785156 1.082031 -1.019531 0.96875 -1.28125 C 0.851562 -1.550781 0.78125 -1.832031 0.75 -2.125 L 1.84375 -2.21875 C 1.875 -2 1.929688 -1.800781 2.015625 -1.625 C 2.097656 -1.445312 2.210938 -1.289062 2.359375 -1.15625 C 2.503906 -1.03125 2.679688 -0.929688 2.890625 -0.859375 C 3.109375 -0.785156 3.359375 -0.75 3.640625 -0.75 C 4.171875 -0.75 4.585938 -0.875 4.890625 -1.125 C 5.191406 -1.375 5.34375 -1.734375 5.34375 -2.203125 C 5.34375 -2.472656 5.273438 -2.691406 5.140625 -2.859375 C 5.003906 -3.035156 4.835938 -3.175781 4.640625 -3.28125 C 4.441406 -3.382812 4.222656 -3.457031 3.984375 -3.5 C 3.742188 -3.539062 3.523438 -3.5625 3.328125 -3.5625 L 2.734375 -3.5625 L 2.734375 -4.484375 L 3.3125 -4.484375 C 3.507812 -4.484375 3.710938 -4.503906 3.921875 -4.546875 C 4.140625 -4.597656 4.335938 -4.675781 4.515625 -4.78125 C 4.691406 -4.894531 4.835938 -5.035156 4.953125 -5.203125 C 5.066406 -5.378906 5.125 -5.59375 5.125 -5.84375 C 5.125 -6.257812 4.992188 -6.582031 4.734375 -6.8125 C 4.472656 -7.039062 4.085938 -7.15625 3.578125 -7.15625 C 3.117188 -7.15625 2.742188 -7.035156 2.453125 -6.796875 C 2.160156 -6.566406 1.992188 -6.234375 1.953125 -5.796875 L 0.890625 -5.875 C 0.929688 -6.238281 1.03125 -6.554688 1.1875 -6.828125 C 1.34375 -7.097656 1.539062 -7.320312 1.78125 -7.5 C 2.019531 -7.675781 2.296875 -7.804688 2.609375 -7.890625 C 2.921875 -7.984375 3.25 -8.03125 3.59375 -8.03125 C 4.0625 -8.03125 4.457031 -7.972656 4.78125 -7.859375 C 5.113281 -7.753906 5.382812 -7.609375 5.59375 -7.421875 C 5.800781 -7.234375 5.957031 -7.007812 6.0625 -6.75 C 6.164062 -6.5 6.21875 -6.234375 6.21875 -5.953125 C 6.21875 -5.734375 6.179688 -5.523438 6.109375 -5.328125 C 6.035156 -5.128906 5.925781 -4.945312 5.78125 -4.78125 C 5.632812 -4.613281 5.453125 -4.46875 5.234375 -4.34375 C 5.023438 -4.21875 4.773438 -4.125 4.484375 -4.0625 L 4.484375 -4.03125 C 4.804688 -4 5.085938 -3.925781 5.328125 -3.8125 C 5.578125 -3.695312 5.78125 -3.550781 5.9375 -3.375 C 6.101562 -3.207031 6.226562 -3.019531 6.3125 -2.8125 C 6.394531 -2.601562 6.4375 -2.390625 6.4375 -2.171875 Z M 6.4375 -2.171875 \"/>\n</symbol>\n<symbol overflow=\"visible\" id=\"glyph0-6\">\n<path style=\"stroke:none;\" d=\"M 2.25 -6.984375 L 2.25 -4.09375 L 6.21875 -4.09375 L 6.21875 -3.171875 L 2.25 -3.171875 L 2.25 0 L 1.140625 0 L 1.140625 -7.90625 L 6.359375 -7.90625 L 6.359375 -6.984375 Z M 2.25 -6.984375 \"/>\n</symbol>\n<symbol overflow=\"visible\" id=\"glyph0-7\">\n<path style=\"stroke:none;\" d=\"M 6.453125 -0.78125 C 6.304688 -0.6875 6.140625 -0.585938 5.953125 -0.484375 C 5.773438 -0.378906 5.570312 -0.28125 5.34375 -0.1875 C 5.113281 -0.101562 4.863281 -0.03125 4.59375 0.03125 C 4.332031 0.09375 4.050781 0.125 3.75 0.125 C 3.21875 0.125 2.757812 0.0195312 2.375 -0.1875 C 1.988281 -0.394531 1.664062 -0.679688 1.40625 -1.046875 C 1.15625 -1.410156 0.96875 -1.84375 0.84375 -2.34375 C 0.71875 -2.84375 0.65625 -3.390625 0.65625 -3.984375 C 0.65625 -4.640625 0.71875 -5.21875 0.84375 -5.71875 C 0.96875 -6.21875 1.15625 -6.640625 1.40625 -6.984375 C 1.65625 -7.328125 1.972656 -7.585938 2.359375 -7.765625 C 2.753906 -7.941406 3.222656 -8.03125 3.765625 -8.03125 C 4.148438 -8.03125 4.488281 -7.976562 4.78125 -7.875 C 5.082031 -7.769531 5.34375 -7.628906 5.5625 -7.453125 C 5.78125 -7.285156 5.960938 -7.082031 6.109375 -6.84375 C 6.253906 -6.613281 6.375 -6.363281 6.46875 -6.09375 L 5.46875 -5.765625 C 5.3125 -6.191406 5.097656 -6.519531 4.828125 -6.75 C 4.554688 -6.988281 4.207031 -7.109375 3.78125 -7.109375 C 3.425781 -7.109375 3.125 -7.039062 2.875 -6.90625 C 2.632812 -6.769531 2.4375 -6.570312 2.28125 -6.3125 C 2.125 -6.050781 2.007812 -5.722656 1.9375 -5.328125 C 1.875 -4.941406 1.84375 -4.492188 1.84375 -3.984375 C 1.84375 -2.941406 2.003906 -2.148438 2.328125 -1.609375 C 2.660156 -1.066406 3.164062 -0.796875 3.84375 -0.796875 C 4.03125 -0.796875 4.203125 -0.8125 4.359375 -0.84375 C 4.523438 -0.875 4.671875 -0.910156 4.796875 -0.953125 C 4.929688 -1.003906 5.046875 -1.050781 5.140625 -1.09375 C 5.234375 -1.144531 5.304688 -1.1875 5.359375 -1.21875 L 5.359375 -3.1875 L 3.640625 -3.1875 L 3.640625 -4.125 L 6.453125 -4.125 Z M 6.453125 -0.78125 \"/>\n</symbol>\n<symbol overflow=\"visible\" id=\"glyph0-8\">\n<path style=\"stroke:none;\" d=\"M 0.921875 0 L 0.921875 -0.84375 L 3.5 -0.84375 L 3.5 -6.828125 C 3.414062 -6.671875 3.28125 -6.523438 3.09375 -6.390625 C 2.90625 -6.253906 2.691406 -6.132812 2.453125 -6.03125 C 2.210938 -5.925781 1.953125 -5.84375 1.671875 -5.78125 C 1.390625 -5.726562 1.125 -5.703125 0.875 -5.703125 L 0.875 -6.5625 C 1.15625 -6.5625 1.4375 -6.59375 1.71875 -6.65625 C 2 -6.726562 2.257812 -6.820312 2.5 -6.9375 C 2.738281 -7.0625 2.953125 -7.203125 3.140625 -7.359375 C 3.328125 -7.523438 3.472656 -7.707031 3.578125 -7.90625 L 4.546875 -7.90625 L 4.546875 -0.84375 L 6.625 -0.84375 L 6.625 0 Z M 0.921875 0 \"/>\n</symbol>\n<symbol overflow=\"visible\" id=\"glyph0-9\">\n<path style=\"stroke:none;\" d=\"M 5.484375 -1.875 L 5.484375 0 L 4.4375 0 L 4.4375 -1.875 L 0.609375 -1.875 L 0.609375 -2.6875 L 4.328125 -7.90625 L 5.484375 -7.90625 L 5.484375 -2.703125 L 6.59375 -2.703125 L 6.59375 -1.875 Z M 4.4375 -6.765625 L 1.5 -2.703125 L 4.4375 -2.703125 Z M 4.4375 -6.765625 \"/>\n</symbol>\n<symbol overflow=\"visible\" id=\"glyph0-10\">\n<path style=\"stroke:none;\" d=\"M 6.609375 -2.171875 C 6.609375 -1.835938 6.546875 -1.53125 6.421875 -1.25 C 6.304688 -0.96875 6.125 -0.722656 5.875 -0.515625 C 5.625 -0.316406 5.304688 -0.160156 4.921875 -0.046875 C 4.546875 0.0664062 4.097656 0.125 3.578125 0.125 C 2.660156 0.125 1.945312 -0.0546875 1.4375 -0.421875 C 0.925781 -0.785156 0.601562 -1.304688 0.46875 -1.984375 L 1.546875 -2.203125 C 1.597656 -1.984375 1.671875 -1.785156 1.765625 -1.609375 C 1.859375 -1.429688 1.984375 -1.28125 2.140625 -1.15625 C 2.304688 -1.03125 2.507812 -0.929688 2.75 -0.859375 C 2.988281 -0.785156 3.273438 -0.75 3.609375 -0.75 C 3.890625 -0.75 4.144531 -0.773438 4.375 -0.828125 C 4.601562 -0.890625 4.800781 -0.972656 4.96875 -1.078125 C 5.132812 -1.191406 5.265625 -1.335938 5.359375 -1.515625 C 5.453125 -1.691406 5.5 -1.90625 5.5 -2.15625 C 5.5 -2.425781 5.4375 -2.644531 5.3125 -2.8125 C 5.1875 -2.988281 5.019531 -3.128906 4.8125 -3.234375 C 4.601562 -3.347656 4.367188 -3.4375 4.109375 -3.5 C 3.847656 -3.570312 3.585938 -3.640625 3.328125 -3.703125 C 3.128906 -3.753906 2.929688 -3.804688 2.734375 -3.859375 C 2.535156 -3.921875 2.34375 -3.988281 2.15625 -4.0625 C 1.96875 -4.144531 1.796875 -4.238281 1.640625 -4.34375 C 1.484375 -4.445312 1.34375 -4.570312 1.21875 -4.71875 C 1.101562 -4.863281 1.007812 -5.035156 0.9375 -5.234375 C 0.875 -5.429688 0.84375 -5.660156 0.84375 -5.921875 C 0.84375 -6.296875 0.910156 -6.613281 1.046875 -6.875 C 1.191406 -7.144531 1.390625 -7.363281 1.640625 -7.53125 C 1.890625 -7.707031 2.179688 -7.832031 2.515625 -7.90625 C 2.847656 -7.988281 3.210938 -8.03125 3.609375 -8.03125 C 4.054688 -8.03125 4.4375 -7.988281 4.75 -7.90625 C 5.070312 -7.820312 5.34375 -7.703125 5.5625 -7.546875 C 5.789062 -7.390625 5.96875 -7.191406 6.09375 -6.953125 C 6.226562 -6.710938 6.335938 -6.4375 6.421875 -6.125 L 5.3125 -5.9375 C 5.269531 -6.132812 5.207031 -6.3125 5.125 -6.46875 C 5.039062 -6.625 4.925781 -6.753906 4.78125 -6.859375 C 4.644531 -6.960938 4.476562 -7.039062 4.28125 -7.09375 C 4.09375 -7.15625 3.863281 -7.1875 3.59375 -7.1875 C 3.28125 -7.1875 3.019531 -7.148438 2.8125 -7.078125 C 2.601562 -7.015625 2.429688 -6.925781 2.296875 -6.8125 C 2.171875 -6.707031 2.078125 -6.578125 2.015625 -6.421875 C 1.960938 -6.273438 1.9375 -6.113281 1.9375 -5.9375 C 1.9375 -5.695312 1.988281 -5.503906 2.09375 -5.359375 C 2.195312 -5.210938 2.335938 -5.09375 2.515625 -5 C 2.691406 -4.90625 2.898438 -4.828125 3.140625 -4.765625 C 3.378906 -4.703125 3.628906 -4.632812 3.890625 -4.5625 C 4.109375 -4.507812 4.328125 -4.453125 4.546875 -4.390625 C 4.765625 -4.328125 4.972656 -4.253906 5.171875 -4.171875 C 5.378906 -4.097656 5.566406 -4.003906 5.734375 -3.890625 C 5.910156 -3.773438 6.0625 -3.632812 6.1875 -3.46875 C 6.320312 -3.3125 6.425781 -3.125 6.5 -2.90625 C 6.570312 -2.695312 6.609375 -2.453125 6.609375 -2.171875 Z M 6.609375 -2.171875 \"/>\n</symbol>\n<symbol overflow=\"visible\" id=\"glyph0-11\">\n<path style=\"stroke:none;\" d=\"M 5.609375 0 L 3.46875 -3.375 L 2.0625 -3.375 L 2.0625 0 L 0.953125 0 L 0.953125 -7.90625 L 3.78125 -7.90625 C 4.25 -7.90625 4.65625 -7.851562 5 -7.75 C 5.351562 -7.65625 5.644531 -7.507812 5.875 -7.3125 C 6.101562 -7.125 6.273438 -6.894531 6.390625 -6.625 C 6.503906 -6.363281 6.5625 -6.0625 6.5625 -5.71875 C 6.5625 -5.476562 6.523438 -5.238281 6.453125 -5 C 6.378906 -4.757812 6.257812 -4.535156 6.09375 -4.328125 C 5.925781 -4.128906 5.71875 -3.957031 5.46875 -3.8125 C 5.21875 -3.664062 4.910156 -3.5625 4.546875 -3.5 L 6.890625 0 Z M 5.4375 -5.703125 C 5.4375 -6.578125 4.84375 -7.015625 3.65625 -7.015625 L 2.0625 -7.015625 L 2.0625 -4.25 L 3.703125 -4.25 C 4.035156 -4.25 4.3125 -4.285156 4.53125 -4.359375 C 4.75 -4.441406 4.925781 -4.546875 5.0625 -4.671875 C 5.195312 -4.804688 5.289062 -4.960938 5.34375 -5.140625 C 5.40625 -5.316406 5.4375 -5.503906 5.4375 -5.703125 Z M 5.4375 -5.703125 \"/>\n</symbol>\n<symbol overflow=\"visible\" id=\"glyph0-12\">\n<path style=\"stroke:none;\" d=\"M 0.953125 0 L 0.953125 -7.90625 L 6.328125 -7.90625 L 6.328125 -6.984375 L 2.0625 -6.984375 L 2.0625 -4.515625 L 5.984375 -4.515625 L 5.984375 -3.609375 L 2.0625 -3.609375 L 2.0625 -0.921875 L 6.578125 -0.921875 L 6.578125 0 Z M 0.953125 0 \"/>\n</symbol>\n<symbol overflow=\"visible\" id=\"glyph0-13\">\n<path style=\"stroke:none;\" d=\"M 6.75 -2.234375 C 6.75 -1.828125 6.664062 -1.484375 6.5 -1.203125 C 6.34375 -0.921875 6.125 -0.691406 5.84375 -0.515625 C 5.5625 -0.335938 5.238281 -0.207031 4.875 -0.125 C 4.507812 -0.0390625 4.125 0 3.71875 0 L 0.953125 0 L 0.953125 -7.90625 L 3.359375 -7.90625 C 3.816406 -7.90625 4.222656 -7.867188 4.578125 -7.796875 C 4.941406 -7.722656 5.25 -7.609375 5.5 -7.453125 C 5.75 -7.296875 5.9375 -7.097656 6.0625 -6.859375 C 6.195312 -6.617188 6.265625 -6.328125 6.265625 -5.984375 C 6.265625 -5.765625 6.234375 -5.554688 6.171875 -5.359375 C 6.109375 -5.160156 6.007812 -4.984375 5.875 -4.828125 C 5.75 -4.671875 5.585938 -4.535156 5.390625 -4.421875 C 5.191406 -4.304688 4.960938 -4.222656 4.703125 -4.171875 C 5.035156 -4.128906 5.328125 -4.050781 5.578125 -3.9375 C 5.835938 -3.832031 6.050781 -3.695312 6.21875 -3.53125 C 6.394531 -3.363281 6.523438 -3.164062 6.609375 -2.9375 C 6.703125 -2.71875 6.75 -2.484375 6.75 -2.234375 Z M 5.140625 -5.84375 C 5.140625 -6.257812 4.992188 -6.554688 4.703125 -6.734375 C 4.410156 -6.921875 3.96875 -7.015625 3.375 -7.015625 L 2.0625 -7.015625 L 2.0625 -4.578125 L 3.390625 -4.578125 C 3.703125 -4.578125 3.96875 -4.601562 4.1875 -4.65625 C 4.414062 -4.71875 4.597656 -4.804688 4.734375 -4.921875 C 4.878906 -5.035156 4.984375 -5.171875 5.046875 -5.328125 C 5.109375 -5.484375 5.140625 -5.65625 5.140625 -5.84375 Z M 5.625 -2.328125 C 5.625 -2.578125 5.570312 -2.785156 5.46875 -2.953125 C 5.375 -3.128906 5.234375 -3.269531 5.046875 -3.375 C 4.867188 -3.488281 4.648438 -3.570312 4.390625 -3.625 C 4.140625 -3.675781 3.859375 -3.703125 3.546875 -3.703125 L 2.0625 -3.703125 L 2.0625 -0.890625 L 3.625 -0.890625 C 3.914062 -0.890625 4.179688 -0.910156 4.421875 -0.953125 C 4.660156 -1.003906 4.867188 -1.082031 5.046875 -1.1875 C 5.234375 -1.300781 5.375 -1.445312 5.46875 -1.625 C 5.570312 -1.8125 5.625 -2.046875 5.625 -2.328125 Z M 5.625 -2.328125 \"/>\n</symbol>\n<symbol overflow=\"visible\" id=\"glyph0-14\">\n<path style=\"stroke:none;\" d=\"M 0.84375 0 L 0.84375 -0.6875 C 1.019531 -1.0625 1.25 -1.410156 1.53125 -1.734375 C 1.8125 -2.054688 2.109375 -2.359375 2.421875 -2.640625 C 2.742188 -2.921875 3.066406 -3.191406 3.390625 -3.453125 C 3.710938 -3.710938 4 -3.96875 4.25 -4.21875 C 4.507812 -4.46875 4.722656 -4.722656 4.890625 -4.984375 C 5.054688 -5.242188 5.140625 -5.519531 5.140625 -5.8125 C 5.140625 -6.039062 5.097656 -6.238281 5.015625 -6.40625 C 4.941406 -6.582031 4.835938 -6.722656 4.703125 -6.828125 C 4.566406 -6.941406 4.398438 -7.023438 4.203125 -7.078125 C 4.015625 -7.128906 3.804688 -7.15625 3.578125 -7.15625 C 3.367188 -7.15625 3.171875 -7.125 2.984375 -7.0625 C 2.804688 -7.007812 2.648438 -6.925781 2.515625 -6.8125 C 2.378906 -6.695312 2.265625 -6.550781 2.171875 -6.375 C 2.085938 -6.195312 2.035156 -5.992188 2.015625 -5.765625 L 0.9375 -5.859375 C 0.96875 -6.160156 1.046875 -6.441406 1.171875 -6.703125 C 1.296875 -6.960938 1.46875 -7.191406 1.6875 -7.390625 C 1.90625 -7.585938 2.171875 -7.742188 2.484375 -7.859375 C 2.796875 -7.972656 3.160156 -8.03125 3.578125 -8.03125 C 3.992188 -8.03125 4.363281 -7.984375 4.6875 -7.890625 C 5.007812 -7.796875 5.285156 -7.65625 5.515625 -7.46875 C 5.742188 -7.289062 5.914062 -7.066406 6.03125 -6.796875 C 6.15625 -6.523438 6.21875 -6.21875 6.21875 -5.875 C 6.21875 -5.507812 6.132812 -5.164062 5.96875 -4.84375 C 5.800781 -4.53125 5.582031 -4.234375 5.3125 -3.953125 C 5.050781 -3.671875 4.757812 -3.398438 4.4375 -3.140625 C 4.125 -2.890625 3.8125 -2.640625 3.5 -2.390625 C 3.195312 -2.140625 2.921875 -1.890625 2.671875 -1.640625 C 2.421875 -1.390625 2.234375 -1.128906 2.109375 -0.859375 L 6.359375 -0.859375 L 6.359375 0 Z M 0.84375 0 \"/>\n</symbol>\n<symbol overflow=\"visible\" id=\"glyph0-15\">\n<path style=\"stroke:none;\" d=\"M 4.15625 -3.421875 L 4.15625 0 L 3.046875 0 L 3.046875 -3.421875 L 0.21875 -7.90625 L 1.40625 -7.90625 L 3.609375 -4.328125 L 5.78125 -7.90625 L 6.984375 -7.90625 Z M 4.15625 -3.421875 \"/>\n</symbol>\n<symbol overflow=\"visible\" id=\"glyph0-16\">\n<path style=\"stroke:none;\" d=\"M 1.390625 0 L 1.390625 -7.90625 L 2.515625 -7.90625 L 2.515625 -0.921875 L 6.453125 -0.921875 L 6.453125 0 Z M 1.390625 0 \"/>\n</symbol>\n<symbol overflow=\"visible\" id=\"glyph0-17\">\n<path style=\"stroke:none;\" d=\"M 6.59375 -4.03125 C 6.59375 -3.375 6.515625 -2.796875 6.359375 -2.296875 C 6.203125 -1.796875 5.972656 -1.375 5.671875 -1.03125 C 5.378906 -0.6875 5.015625 -0.425781 4.578125 -0.25 C 4.148438 -0.0820312 3.664062 0 3.125 0 L 0.953125 0 L 0.953125 -7.90625 L 2.765625 -7.90625 C 3.390625 -7.90625 3.9375 -7.828125 4.40625 -7.671875 C 4.882812 -7.523438 5.285156 -7.289062 5.609375 -6.96875 C 5.929688 -6.65625 6.175781 -6.253906 6.34375 -5.765625 C 6.507812 -5.285156 6.59375 -4.707031 6.59375 -4.03125 Z M 5.46875 -4.03125 C 5.46875 -4.5625 5.410156 -5.015625 5.296875 -5.390625 C 5.191406 -5.765625 5.023438 -6.066406 4.796875 -6.296875 C 4.578125 -6.535156 4.300781 -6.707031 3.96875 -6.8125 C 3.632812 -6.925781 3.238281 -6.984375 2.78125 -6.984375 L 2.0625 -6.984375 L 2.0625 -0.921875 L 3.015625 -0.921875 C 3.847656 -0.921875 4.460938 -1.175781 4.859375 -1.6875 C 5.265625 -2.207031 5.46875 -2.988281 5.46875 -4.03125 Z M 5.46875 -4.03125 \"/>\n</symbol>\n<symbol overflow=\"visible\" id=\"glyph0-18\">\n<path style=\"stroke:none;\" d=\"M 6.265625 -7.09375 C 5.890625 -6.550781 5.535156 -5.992188 5.203125 -5.421875 C 4.867188 -4.847656 4.570312 -4.257812 4.3125 -3.65625 C 4.0625 -3.0625 3.863281 -2.457031 3.71875 -1.84375 C 3.570312 -1.238281 3.5 -0.625 3.5 0 L 2.390625 0 C 2.390625 -0.613281 2.46875 -1.226562 2.625 -1.84375 C 2.78125 -2.457031 2.988281 -3.0625 3.25 -3.65625 C 3.507812 -4.257812 3.8125 -4.847656 4.15625 -5.421875 C 4.5 -5.992188 4.863281 -6.539062 5.25 -7.0625 L 0.921875 -7.0625 L 0.921875 -7.90625 L 6.265625 -7.90625 Z M 6.265625 -7.09375 \"/>\n</symbol>\n</g>\n</defs>\n<g id=\"surface28\">\n<rect x=\"0\" y=\"0\" width=\"600\" height=\"600\" style=\"fill:rgb(100%,100%,100%);fill-opacity:1;stroke:none;\"/>\n<path style=\"fill:none;stroke-width:10.58265;stroke-linecap:butt;stroke-linejoin:miter;stroke:rgb(0%,100%,0%);stroke-opacity:1;stroke-miterlimit:10;\" d=\"M 573.039062 408.585938 C 573.039062 421.011719 562.964844 431.085938 550.539062 431.085938 C 538.113281 431.085938 528.039062 421.011719 528.039062 408.585938 C 528.039062 396.160156 538.113281 386.085938 550.539062 386.085938 C 562.964844 386.085938 573.039062 396.160156 573.039062 408.585938 \"/>\n<path style=\"fill:none;stroke-width:0.44794;stroke-linecap:butt;stroke-linejoin:miter;stroke:rgb(0%,100%,0%);stroke-opacity:1;stroke-miterlimit:10;\" d=\"M 534.628906 424.496094 L 161.816406 480.964844 \"/>\n<path style=\" stroke:none;fill-rule:nonzero;fill:rgb(0%,100%,0%);fill-opacity:1;\" d=\"M 147.710938 483.101562 L 161.121094 476.382812 L 162.511719 485.546875 L 147.710938 483.101562 \"/>\n<path style=\"fill:none;stroke-width:0.50884;stroke-linecap:butt;stroke-linejoin:miter;stroke:rgb(0%,100%,0%);stroke-opacity:1;stroke-miterlimit:10;\" d=\"M 534.628906 424.496094 L 396.152344 77.183594 \"/>\n<path style=\" stroke:none;fill-rule:nonzero;fill:rgb(0%,100%,0%);fill-opacity:1;\" d=\"M 390.867188 63.933594 L 400.457031 75.46875 L 391.847656 78.902344 L 390.867188 63.933594 \"/>\n<path style=\"fill:none;stroke-width:1.23109;stroke-linecap:butt;stroke-linejoin:miter;stroke:rgb(0%,100%,0%);stroke-opacity:1;stroke-miterlimit:10;\" d=\"M 534.628906 424.496094 L 334.585938 310.855469 \"/>\n<path style=\" stroke:none;fill-rule:nonzero;fill:rgb(0%,100%,0%);fill-opacity:1;\" d=\"M 322.183594 303.808594 L 336.878906 306.824219 L 332.296875 314.882812 L 322.183594 303.808594 \"/>\n<path style=\"fill:none;stroke-width:0.54711;stroke-linecap:butt;stroke-linejoin:miter;stroke:rgb(100%,0%,0%);stroke-opacity:1;stroke-miterlimit:10;\" d=\"M 534.628906 424.496094 L 184.78125 104.960938 \"/>\n<path style=\" stroke:none;fill-rule:nonzero;fill:rgb(100%,0%,0%);fill-opacity:1;\" d=\"M 174.246094 95.339844 L 187.90625 101.539062 L 181.652344 108.382812 L 174.246094 95.339844 \"/>\n<path style=\"fill:none;stroke-width:0.44286;stroke-linecap:butt;stroke-linejoin:miter;stroke:rgb(0%,100%,0%);stroke-opacity:1;stroke-miterlimit:10;\" d=\"M 534.628906 424.496094 L 372.765625 533.636719 \"/>\n<path style=\" stroke:none;fill-rule:nonzero;fill:rgb(0%,100%,0%);fill-opacity:1;\" d=\"M 360.9375 541.613281 L 370.175781 529.796875 L 375.359375 537.480469 L 360.9375 541.613281 \"/>\n<path style=\"fill:none;stroke-width:0.00519;stroke-linecap:butt;stroke-linejoin:miter;stroke:rgb(100%,0%,0%);stroke-opacity:1;stroke-miterlimit:10;\" d=\"M 534.628906 424.496094 L 78.007812 286.164062 \"/>\n<path style=\" stroke:none;fill-rule:nonzero;fill:rgb(100%,0%,0%);fill-opacity:1;\" d=\"M 64.355469 282.027344 L 79.351562 281.726562 L 76.664062 290.601562 L 64.355469 282.027344 \"/>\n<path style=\"fill:none;stroke-width:0.25685;stroke-linecap:butt;stroke-linejoin:miter;stroke:rgb(0%,100%,0%);stroke-opacity:1;stroke-miterlimit:10;\" d=\"M 534.628906 424.496094 L 547.984375 231.273438 \"/>\n<path style=\" stroke:none;fill-rule:nonzero;fill:rgb(0%,100%,0%);fill-opacity:1;\" d=\"M 548.964844 217.042969 L 552.605469 231.59375 L 543.359375 230.953125 L 548.964844 217.042969 \"/>\n<path style=\"fill:none;stroke-width:0.44794;stroke-linecap:butt;stroke-linejoin:miter;stroke:rgb(0%,100%,0%);stroke-opacity:1;stroke-miterlimit:10;\" d=\"M 132.882812 485.347656 L 505.695312 428.878906 \"/>\n<path style=\" stroke:none;fill-rule:nonzero;fill:rgb(0%,100%,0%);fill-opacity:1;\" d=\"M 519.800781 426.742188 L 506.386719 433.460938 L 505 424.296875 L 519.800781 426.742188 \"/>\n<path style=\"fill:none;stroke-width:10.44976;stroke-linecap:butt;stroke-linejoin:miter;stroke:rgb(0%,100%,0%);stroke-opacity:1;stroke-miterlimit:10;\" d=\"M 171.292969 469.4375 C 171.292969 481.863281 161.21875 491.9375 148.792969 491.9375 C 136.363281 491.9375 126.292969 481.863281 126.292969 469.4375 C 126.292969 457.011719 136.363281 446.9375 148.792969 446.9375 C 161.21875 446.9375 171.292969 457.011719 171.292969 469.4375 \"/>\n<path style=\"fill:none;stroke-width:1.74487;stroke-linecap:butt;stroke-linejoin:miter;stroke:rgb(0%,100%,0%);stroke-opacity:1;stroke-miterlimit:10;\" d=\"M 132.882812 485.347656 L 370.632812 75.316406 \"/>\n<path style=\" stroke:none;fill-rule:nonzero;fill:rgb(0%,100%,0%);fill-opacity:1;\" d=\"M 377.789062 62.976562 L 374.640625 77.644531 L 366.621094 72.992188 L 377.789062 62.976562 \"/>\n<path style=\"fill:none;stroke-width:0.22467;stroke-linecap:butt;stroke-linejoin:miter;stroke:rgb(100%,0%,0%);stroke-opacity:1;stroke-miterlimit:10;\" d=\"M 132.882812 485.347656 L 289.179688 317.796875 \"/>\n<path style=\" stroke:none;fill-rule:nonzero;fill:rgb(100%,0%,0%);fill-opacity:1;\" d=\"M 298.910156 307.367188 L 292.566406 320.960938 L 285.789062 314.636719 L 298.910156 307.367188 \"/>\n<path style=\"fill:none;stroke-width:0.25248;stroke-linecap:butt;stroke-linejoin:miter;stroke:rgb(100%,0%,0%);stroke-opacity:1;stroke-miterlimit:10;\" d=\"M 132.882812 485.347656 L 160.960938 114.40625 \"/>\n<path style=\" stroke:none;fill-rule:nonzero;fill:rgb(100%,0%,0%);fill-opacity:1;\" d=\"M 162.039062 100.183594 L 165.582031 114.757812 L 156.339844 114.058594 L 162.039062 100.183594 \"/>\n<path style=\"fill:none;stroke-width:0.02224;stroke-linecap:butt;stroke-linejoin:miter;stroke:rgb(0%,100%,0%);stroke-opacity:1;stroke-miterlimit:10;\" d=\"M 132.882812 485.347656 L 320.46875 541.59375 \"/>\n<path style=\" stroke:none;fill-rule:nonzero;fill:rgb(0%,100%,0%);fill-opacity:1;\" d=\"M 334.132812 545.691406 L 319.136719 546.035156 L 321.800781 537.15625 L 334.132812 545.691406 \"/>\n<path style=\"fill:none;stroke-width:0.47362;stroke-linecap:butt;stroke-linejoin:miter;stroke:rgb(100%,0%,0%);stroke-opacity:1;stroke-miterlimit:10;\" d=\"M 132.882812 485.347656 L 60.847656 304.859375 \"/>\n<path style=\" stroke:none;fill-rule:nonzero;fill:rgb(100%,0%,0%);fill-opacity:1;\" d=\"M 55.558594 291.609375 L 65.152344 303.140625 L 56.542969 306.578125 L 55.558594 291.609375 \"/>\n<path style=\"fill:none;stroke-width:0.78536;stroke-linecap:butt;stroke-linejoin:miter;stroke:rgb(100%,0%,0%);stroke-opacity:1;stroke-miterlimit:10;\" d=\"M 132.882812 485.347656 L 525.789062 218.519531 \"/>\n<path style=\" stroke:none;fill-rule:nonzero;fill:rgb(100%,0%,0%);fill-opacity:1;\" d=\"M 537.589844 210.503906 L 528.394531 222.355469 L 523.183594 214.683594 L 537.589844 210.503906 \"/>\n<path style=\"fill:none;stroke-width:0.50884;stroke-linecap:butt;stroke-linejoin:miter;stroke:rgb(0%,100%,0%);stroke-opacity:1;stroke-miterlimit:10;\" d=\"M 385.3125 50 L 523.792969 397.3125 \"/>\n<path style=\" stroke:none;fill-rule:nonzero;fill:rgb(0%,100%,0%);fill-opacity:1;\" d=\"M 529.074219 410.5625 L 519.484375 399.027344 L 528.097656 395.59375 L 529.074219 410.5625 \"/>\n<path style=\"fill:none;stroke-width:1.74487;stroke-linecap:butt;stroke-linejoin:miter;stroke:rgb(0%,100%,0%);stroke-opacity:1;stroke-miterlimit:10;\" d=\"M 385.3125 50 L 147.5625 460.027344 \"/>\n<path style=\" stroke:none;fill-rule:nonzero;fill:rgb(0%,100%,0%);fill-opacity:1;\" d=\"M 140.40625 472.371094 L 143.550781 457.703125 L 151.570312 462.355469 L 140.40625 472.371094 \"/>\n<path style=\"fill:none;stroke-width:7.73622;stroke-linecap:butt;stroke-linejoin:miter;stroke:rgb(0%,100%,0%);stroke-opacity:1;stroke-miterlimit:10;\" d=\"M 423.722656 34.089844 C 423.722656 46.515625 413.648438 56.589844 401.222656 56.589844 C 388.796875 56.589844 378.722656 46.515625 378.722656 34.089844 C 378.722656 21.664062 388.796875 11.589844 401.222656 11.589844 C 413.648438 11.589844 423.722656 21.664062 423.722656 34.089844 \"/>\n<path style=\"fill:none;stroke-width:0.5087;stroke-linecap:butt;stroke-linejoin:miter;stroke:rgb(100%,0%,0%);stroke-opacity:1;stroke-miterlimit:10;\" d=\"M 385.3125 50 L 317.785156 268.4375 \"/>\n<path style=\" stroke:none;fill-rule:nonzero;fill:rgb(100%,0%,0%);fill-opacity:1;\" d=\"M 313.570312 282.066406 L 313.355469 267.070312 L 322.214844 269.804688 L 313.570312 282.066406 \"/>\n<path style=\"fill:none;stroke-width:1.05563;stroke-linecap:butt;stroke-linejoin:miter;stroke:rgb(100%,0%,0%);stroke-opacity:1;stroke-miterlimit:10;\" d=\"M 385.3125 50 L 192.074219 80.640625 \"/>\n<path style=\" stroke:none;fill-rule:nonzero;fill:rgb(100%,0%,0%);fill-opacity:1;\" d=\"M 177.984375 82.875 L 191.347656 76.0625 L 192.800781 85.21875 L 177.984375 82.875 \"/>\n<path style=\"fill:none;stroke-width:0.66458;stroke-linecap:butt;stroke-linejoin:miter;stroke:rgb(100%,0%,0%);stroke-opacity:1;stroke-miterlimit:10;\" d=\"M 385.3125 50 L 350.652344 520.8125 \"/>\n<path style=\" stroke:none;fill-rule:nonzero;fill:rgb(100%,0%,0%);fill-opacity:1;\" d=\"M 349.601562 535.039062 L 346.027344 520.472656 L 355.273438 521.152344 L 349.601562 535.039062 \"/>\n<path style=\"fill:none;stroke-width:1.53903;stroke-linecap:butt;stroke-linejoin:miter;stroke:rgb(100%,0%,0%);stroke-opacity:1;stroke-miterlimit:10;\" d=\"M 385.3125 50 L 74.210938 261.238281 \"/>\n<path style=\" stroke:none;fill-rule:nonzero;fill:rgb(100%,0%,0%);fill-opacity:1;\" d=\"M 62.410156 269.253906 L 71.609375 257.402344 L 76.816406 265.074219 L 62.410156 269.253906 \"/>\n<path style=\"fill:none;stroke-width:0.74156;stroke-linecap:butt;stroke-linejoin:miter;stroke:rgb(0%,100%,0%);stroke-opacity:1;stroke-miterlimit:10;\" d=\"M 385.3125 50 L 528.5 182.222656 \"/>\n<path style=\" stroke:none;fill-rule:nonzero;fill:rgb(0%,100%,0%);fill-opacity:1;\" d=\"M 538.980469 191.902344 L 525.355469 185.628906 L 531.644531 178.816406 L 538.980469 191.902344 \"/>\n<path style=\"fill:none;stroke-width:1.23109;stroke-linecap:butt;stroke-linejoin:miter;stroke:rgb(0%,100%,0%);stroke-opacity:1;stroke-miterlimit:10;\" d=\"M 309.140625 296.398438 L 509.183594 410.039062 \"/>\n<path style=\" stroke:none;fill-rule:nonzero;fill:rgb(0%,100%,0%);fill-opacity:1;\" d=\"M 521.585938 417.085938 L 506.894531 414.070312 L 511.472656 406.011719 L 521.585938 417.085938 \"/>\n<path style=\"fill:none;stroke-width:0.22467;stroke-linecap:butt;stroke-linejoin:miter;stroke:rgb(100%,0%,0%);stroke-opacity:1;stroke-miterlimit:10;\" d=\"M 309.140625 296.398438 L 152.84375 463.945312 \"/>\n<path style=\" stroke:none;fill-rule:nonzero;fill:rgb(100%,0%,0%);fill-opacity:1;\" d=\"M 143.113281 474.378906 L 149.453125 460.785156 L 156.234375 467.109375 L 143.113281 474.378906 \"/>\n<path style=\"fill:none;stroke-width:0.5087;stroke-linecap:butt;stroke-linejoin:miter;stroke:rgb(100%,0%,0%);stroke-opacity:1;stroke-miterlimit:10;\" d=\"M 309.140625 296.398438 L 376.667969 77.960938 \"/>\n<path style=\" stroke:none;fill-rule:nonzero;fill:rgb(100%,0%,0%);fill-opacity:1;\" d=\"M 380.882812 64.332031 L 381.097656 79.328125 L 372.242188 76.589844 L 380.882812 64.332031 \"/>\n<path style=\"fill:none;stroke-width:5.6207;stroke-linecap:butt;stroke-linejoin:miter;stroke:rgb(0%,100%,0%);stroke-opacity:1;stroke-miterlimit:10;\" d=\"M 347.550781 280.488281 C 347.550781 292.914062 337.476562 302.988281 325.050781 302.988281 C 312.625 302.988281 302.550781 292.914062 302.550781 280.488281 C 302.550781 268.0625 312.625 257.988281 325.050781 257.988281 C 337.476562 257.988281 347.550781 268.0625 347.550781 280.488281 \"/>\n<path style=\"fill:none;stroke-width:0.58445;stroke-linecap:butt;stroke-linejoin:miter;stroke:rgb(100%,0%,0%);stroke-opacity:1;stroke-miterlimit:10;\" d=\"M 309.140625 296.398438 L 179.8125 109.300781 \"/>\n<path style=\" stroke:none;fill-rule:nonzero;fill:rgb(100%,0%,0%);fill-opacity:1;\" d=\"M 171.699219 97.5625 L 183.625 106.664062 L 176 111.933594 L 171.699219 97.5625 \"/>\n<path style=\"fill:none;stroke-width:0.60104;stroke-linecap:butt;stroke-linejoin:miter;stroke:rgb(100%,0%,0%);stroke-opacity:1;stroke-miterlimit:10;\" d=\"M 309.140625 296.398438 L 344.011719 521.082031 \"/>\n<path style=\" stroke:none;fill-rule:nonzero;fill:rgb(100%,0%,0%);fill-opacity:1;\" d=\"M 346.203125 535.175781 L 339.433594 521.792969 L 348.59375 520.371094 L 346.203125 535.175781 \"/>\n<path style=\"fill:none;stroke-width:1.68851;stroke-linecap:butt;stroke-linejoin:miter;stroke:rgb(100%,0%,0%);stroke-opacity:1;stroke-miterlimit:10;\" d=\"M 309.140625 296.398438 L 79.191406 279.785156 \"/>\n<path style=\" stroke:none;fill-rule:nonzero;fill:rgb(100%,0%,0%);fill-opacity:1;\" d=\"M 64.960938 278.757812 L 79.523438 275.164062 L 78.855469 284.410156 L 64.960938 278.757812 \"/>\n<path style=\"fill:none;stroke-width:0.19798;stroke-linecap:butt;stroke-linejoin:miter;stroke:rgb(100%,0%,0%);stroke-opacity:1;stroke-miterlimit:10;\" d=\"M 309.140625 296.398438 L 522.75 212.75 \"/>\n<path style=\" stroke:none;fill-rule:nonzero;fill:rgb(100%,0%,0%);fill-opacity:1;\" d=\"M 536.03125 207.546875 L 524.4375 217.066406 L 521.058594 208.433594 L 536.03125 207.546875 \"/>\n<path style=\"fill:none;stroke-width:0.54711;stroke-linecap:butt;stroke-linejoin:miter;stroke:rgb(100%,0%,0%);stroke-opacity:1;stroke-miterlimit:10;\" d=\"M 163.171875 85.226562 L 513.019531 404.757812 \"/>\n<path style=\" stroke:none;fill-rule:nonzero;fill:rgb(100%,0%,0%);fill-opacity:1;\" d=\"M 523.554688 414.378906 L 509.894531 408.183594 L 516.148438 401.335938 L 523.554688 414.378906 \"/>\n<path style=\"fill:none;stroke-width:0.25248;stroke-linecap:butt;stroke-linejoin:miter;stroke:rgb(100%,0%,0%);stroke-opacity:1;stroke-miterlimit:10;\" d=\"M 163.171875 85.226562 L 135.089844 456.164062 \"/>\n<path style=\" stroke:none;fill-rule:nonzero;fill:rgb(100%,0%,0%);fill-opacity:1;\" d=\"M 134.011719 470.390625 L 130.46875 455.816406 L 139.710938 456.515625 L 134.011719 470.390625 \"/>\n<path style=\"fill:none;stroke-width:1.05563;stroke-linecap:butt;stroke-linejoin:miter;stroke:rgb(100%,0%,0%);stroke-opacity:1;stroke-miterlimit:10;\" d=\"M 163.171875 85.226562 L 356.40625 54.582031 \"/>\n<path style=\" stroke:none;fill-rule:nonzero;fill:rgb(100%,0%,0%);fill-opacity:1;\" d=\"M 370.496094 52.347656 L 357.132812 59.160156 L 355.683594 50.003906 L 370.496094 52.347656 \"/>\n<path style=\"fill:none;stroke-width:0.58445;stroke-linecap:butt;stroke-linejoin:miter;stroke:rgb(100%,0%,0%);stroke-opacity:1;stroke-miterlimit:10;\" d=\"M 163.171875 85.226562 L 292.5 272.324219 \"/>\n<path style=\" stroke:none;fill-rule:nonzero;fill:rgb(100%,0%,0%);fill-opacity:1;\" d=\"M 300.613281 284.058594 L 288.6875 274.960938 L 296.3125 269.6875 L 300.613281 284.058594 \"/>\n<path style=\"fill:none;stroke-width:5.40032;stroke-linecap:butt;stroke-linejoin:miter;stroke:rgb(0%,100%,0%);stroke-opacity:1;stroke-miterlimit:10;\" d=\"M 201.582031 69.316406 C 201.582031 81.742188 191.507812 91.816406 179.082031 91.816406 C 166.652344 91.816406 156.582031 81.742188 156.582031 69.316406 C 156.582031 56.890625 166.652344 46.816406 179.082031 46.816406 C 191.507812 46.816406 201.582031 56.890625 201.582031 69.316406 \"/>\n<path style=\"fill:none;stroke-width:1.12907;stroke-linecap:butt;stroke-linejoin:miter;stroke:rgb(100%,0%,0%);stroke-opacity:1;stroke-miterlimit:10;\" d=\"M 163.171875 85.226562 L 337.660156 522.816406 \"/>\n<path style=\" stroke:none;fill-rule:nonzero;fill:rgb(100%,0%,0%);fill-opacity:1;\" d=\"M 342.945312 536.066406 L 333.355469 524.53125 L 341.96875 521.097656 L 342.945312 536.066406 \"/>\n<path style=\"fill:none;stroke-width:0.34236;stroke-linecap:butt;stroke-linejoin:miter;stroke:rgb(0%,100%,0%);stroke-opacity:1;stroke-miterlimit:10;\" d=\"M 163.171875 85.226562 L 64.835938 252.449219 \"/>\n<path style=\" stroke:none;fill-rule:nonzero;fill:rgb(0%,100%,0%);fill-opacity:1;\" d=\"M 57.601562 264.75 L 60.839844 250.101562 L 68.832031 254.800781 L 57.601562 264.75 \"/>\n<path style=\"fill:none;stroke-width:0.29027;stroke-linecap:butt;stroke-linejoin:miter;stroke:rgb(100%,0%,0%);stroke-opacity:1;stroke-miterlimit:10;\" d=\"M 163.171875 85.226562 L 521.984375 193.613281 \"/>\n<path style=\" stroke:none;fill-rule:nonzero;fill:rgb(100%,0%,0%);fill-opacity:1;\" d=\"M 535.640625 197.738281 L 520.644531 198.050781 L 523.324219 189.175781 L 535.640625 197.738281 \"/>\n<path style=\"fill:none;stroke-width:0.44286;stroke-linecap:butt;stroke-linejoin:miter;stroke:rgb(0%,100%,0%);stroke-opacity:1;stroke-miterlimit:10;\" d=\"M 348.5 550 L 510.363281 440.859375 \"/>\n<path style=\" stroke:none;fill-rule:nonzero;fill:rgb(0%,100%,0%);fill-opacity:1;\" d=\"M 522.191406 432.882812 L 512.957031 444.699219 L 507.773438 437.015625 L 522.191406 432.882812 \"/>\n<path style=\"fill:none;stroke-width:0.02224;stroke-linecap:butt;stroke-linejoin:miter;stroke:rgb(0%,100%,0%);stroke-opacity:1;stroke-miterlimit:10;\" d=\"M 348.5 550 L 160.914062 493.753906 \"/>\n<path style=\" stroke:none;fill-rule:nonzero;fill:rgb(0%,100%,0%);fill-opacity:1;\" d=\"M 147.25 489.65625 L 162.246094 489.3125 L 159.582031 498.191406 L 147.25 489.65625 \"/>\n<path style=\"fill:none;stroke-width:0.66458;stroke-linecap:butt;stroke-linejoin:miter;stroke:rgb(100%,0%,0%);stroke-opacity:1;stroke-miterlimit:10;\" d=\"M 348.5 550 L 383.164062 79.1875 \"/>\n<path style=\" stroke:none;fill-rule:nonzero;fill:rgb(100%,0%,0%);fill-opacity:1;\" d=\"M 384.210938 64.960938 L 387.785156 79.527344 L 378.542969 78.847656 L 384.210938 64.960938 \"/>\n<path style=\"fill:none;stroke-width:0.60104;stroke-linecap:butt;stroke-linejoin:miter;stroke:rgb(100%,0%,0%);stroke-opacity:1;stroke-miterlimit:10;\" d=\"M 348.5 550 L 313.628906 325.316406 \"/>\n<path style=\" stroke:none;fill-rule:nonzero;fill:rgb(100%,0%,0%);fill-opacity:1;\" d=\"M 311.441406 311.21875 L 318.210938 324.605469 L 309.050781 326.027344 L 311.441406 311.21875 \"/>\n<path style=\"fill:none;stroke-width:1.12907;stroke-linecap:butt;stroke-linejoin:miter;stroke:rgb(100%,0%,0%);stroke-opacity:1;stroke-miterlimit:10;\" d=\"M 348.5 550 L 174.011719 112.410156 \"/>\n<path style=\" stroke:none;fill-rule:nonzero;fill:rgb(100%,0%,0%);fill-opacity:1;\" d=\"M 168.726562 99.160156 L 178.316406 110.691406 L 169.703125 114.125 L 168.726562 99.160156 \"/>\n<path style=\"fill:none;stroke-width:5.24879;stroke-linecap:butt;stroke-linejoin:miter;stroke:rgb(0%,100%,0%);stroke-opacity:1;stroke-miterlimit:10;\" d=\"M 386.910156 534.089844 C 386.910156 546.515625 376.839844 556.589844 364.410156 556.589844 C 351.984375 556.589844 341.910156 546.515625 341.910156 534.089844 C 341.910156 521.664062 351.984375 511.589844 364.410156 511.589844 C 376.839844 511.589844 386.910156 521.664062 386.910156 534.089844 \"/>\n<path style=\"fill:none;stroke-width:0.33177;stroke-linecap:butt;stroke-linejoin:miter;stroke:rgb(100%,0%,0%);stroke-opacity:1;stroke-miterlimit:10;\" d=\"M 348.5 550 L 71.621094 297.402344 \"/>\n<path style=\" stroke:none;fill-rule:nonzero;fill:rgb(100%,0%,0%);fill-opacity:1;\" d=\"M 61.082031 287.789062 L 74.746094 293.976562 L 68.496094 300.828125 L 61.082031 287.789062 \"/>\n<path style=\"fill:none;stroke-width:0.11903;stroke-linecap:butt;stroke-linejoin:miter;stroke:rgb(100%,0%,0%);stroke-opacity:1;stroke-miterlimit:10;\" d=\"M 348.5 550 L 535.332031 227.402344 \"/>\n<path style=\" stroke:none;fill-rule:nonzero;fill:rgb(100%,0%,0%);fill-opacity:1;\" d=\"M 542.484375 215.058594 L 539.34375 229.726562 L 531.320312 225.078125 L 542.484375 215.058594 \"/>\n<path style=\"fill:none;stroke-width:0.00519;stroke-linecap:butt;stroke-linejoin:miter;stroke:rgb(100%,0%,0%);stroke-opacity:1;stroke-miterlimit:10;\" d=\"M 50 277.679688 L 506.621094 416.011719 \"/>\n<path style=\" stroke:none;fill-rule:nonzero;fill:rgb(100%,0%,0%);fill-opacity:1;\" d=\"M 520.273438 420.148438 L 505.277344 420.445312 L 507.964844 411.574219 L 520.273438 420.148438 \"/>\n<path style=\"fill:none;stroke-width:0.47362;stroke-linecap:butt;stroke-linejoin:miter;stroke:rgb(100%,0%,0%);stroke-opacity:1;stroke-miterlimit:10;\" d=\"M 50 277.679688 L 122.03125 458.164062 \"/>\n<path style=\" stroke:none;fill-rule:nonzero;fill:rgb(100%,0%,0%);fill-opacity:1;\" d=\"M 127.320312 471.414062 L 117.726562 459.882812 L 126.339844 456.449219 L 127.320312 471.414062 \"/>\n<path style=\"fill:none;stroke-width:1.53903;stroke-linecap:butt;stroke-linejoin:miter;stroke:rgb(100%,0%,0%);stroke-opacity:1;stroke-miterlimit:10;\" d=\"M 50 277.679688 L 361.101562 66.441406 \"/>\n<path style=\" stroke:none;fill-rule:nonzero;fill:rgb(100%,0%,0%);fill-opacity:1;\" d=\"M 372.902344 58.425781 L 363.703125 70.273438 L 358.496094 62.605469 L 372.902344 58.425781 \"/>\n<path style=\"fill:none;stroke-width:1.68851;stroke-linecap:butt;stroke-linejoin:miter;stroke:rgb(100%,0%,0%);stroke-opacity:1;stroke-miterlimit:10;\" d=\"M 50 277.679688 L 279.953125 294.289062 \"/>\n<path style=\" stroke:none;fill-rule:nonzero;fill:rgb(100%,0%,0%);fill-opacity:1;\" d=\"M 294.179688 295.316406 L 279.617188 298.914062 L 280.285156 289.664062 L 294.179688 295.316406 \"/>\n<path style=\"fill:none;stroke-width:0.34236;stroke-linecap:butt;stroke-linejoin:miter;stroke:rgb(0%,100%,0%);stroke-opacity:1;stroke-miterlimit:10;\" d=\"M 50 277.679688 L 148.335938 110.453125 \"/>\n<path style=\" stroke:none;fill-rule:nonzero;fill:rgb(0%,100%,0%);fill-opacity:1;\" d=\"M 155.566406 98.15625 L 152.332031 112.800781 L 144.339844 108.101562 L 155.566406 98.15625 \"/>\n<path style=\"fill:none;stroke-width:0.33177;stroke-linecap:butt;stroke-linejoin:miter;stroke:rgb(100%,0%,0%);stroke-opacity:1;stroke-miterlimit:10;\" d=\"M 50 277.679688 L 326.882812 530.277344 \"/>\n<path style=\" stroke:none;fill-rule:nonzero;fill:rgb(100%,0%,0%);fill-opacity:1;\" d=\"M 337.421875 539.890625 L 323.757812 533.699219 L 330.003906 526.851562 L 337.421875 539.890625 \"/>\n<path style=\"fill:none;stroke-width:4.85128;stroke-linecap:butt;stroke-linejoin:miter;stroke:rgb(0%,100%,0%);stroke-opacity:1;stroke-miterlimit:10;\" d=\"M 88.410156 261.769531 C 88.410156 274.195312 78.335938 284.269531 65.910156 284.269531 C 53.484375 284.269531 43.410156 274.195312 43.410156 261.769531 C 43.410156 249.34375 53.484375 239.269531 65.910156 239.269531 C 78.335938 239.269531 88.410156 249.34375 88.410156 261.769531 \"/>\n<path style=\"fill:none;stroke-width:0.19015;stroke-linecap:butt;stroke-linejoin:miter;stroke:rgb(100%,0%,0%);stroke-opacity:1;stroke-miterlimit:10;\" d=\"M 50 277.679688 L 521.0625 206.453125 \"/>\n<path style=\" stroke:none;fill-rule:nonzero;fill:rgb(100%,0%,0%);fill-opacity:1;\" d=\"M 535.167969 204.320312 L 521.757812 211.035156 L 520.371094 201.871094 L 535.167969 204.320312 \"/>\n<path style=\"fill:none;stroke-width:0.25685;stroke-linecap:butt;stroke-linejoin:miter;stroke:rgb(0%,100%,0%);stroke-opacity:1;stroke-miterlimit:10;\" d=\"M 550 202.078125 L 536.648438 395.300781 \"/>\n<path style=\" stroke:none;fill-rule:nonzero;fill:rgb(0%,100%,0%);fill-opacity:1;\" d=\"M 535.664062 409.53125 L 532.023438 394.980469 L 541.273438 395.621094 L 535.664062 409.53125 \"/>\n<path style=\"fill:none;stroke-width:0.78536;stroke-linecap:butt;stroke-linejoin:miter;stroke:rgb(100%,0%,0%);stroke-opacity:1;stroke-miterlimit:10;\" d=\"M 550 202.078125 L 157.09375 468.90625 \"/>\n<path style=\" stroke:none;fill-rule:nonzero;fill:rgb(100%,0%,0%);fill-opacity:1;\" d=\"M 145.289062 476.917969 L 154.488281 465.070312 L 159.695312 472.738281 L 145.289062 476.917969 \"/>\n<path style=\"fill:none;stroke-width:0.74156;stroke-linecap:butt;stroke-linejoin:miter;stroke:rgb(0%,100%,0%);stroke-opacity:1;stroke-miterlimit:10;\" d=\"M 550 202.078125 L 406.8125 69.855469 \"/>\n<path style=\" stroke:none;fill-rule:nonzero;fill:rgb(0%,100%,0%);fill-opacity:1;\" d=\"M 396.332031 60.175781 L 409.957031 66.449219 L 403.667969 73.261719 L 396.332031 60.175781 \"/>\n<path style=\"fill:none;stroke-width:0.19798;stroke-linecap:butt;stroke-linejoin:miter;stroke:rgb(100%,0%,0%);stroke-opacity:1;stroke-miterlimit:10;\" d=\"M 550 202.078125 L 336.390625 285.726562 \"/>\n<path style=\" stroke:none;fill-rule:nonzero;fill:rgb(100%,0%,0%);fill-opacity:1;\" d=\"M 323.109375 290.929688 L 334.703125 281.410156 L 338.082031 290.042969 L 323.109375 290.929688 \"/>\n<path style=\"fill:none;stroke-width:0.29027;stroke-linecap:butt;stroke-linejoin:miter;stroke:rgb(100%,0%,0%);stroke-opacity:1;stroke-miterlimit:10;\" d=\"M 550 202.078125 L 191.1875 93.6875 \"/>\n<path style=\" stroke:none;fill-rule:nonzero;fill:rgb(100%,0%,0%);fill-opacity:1;\" d=\"M 177.53125 89.5625 L 192.527344 89.25 L 189.847656 98.125 L 177.53125 89.5625 \"/>\n<path style=\"fill:none;stroke-width:0.11903;stroke-linecap:butt;stroke-linejoin:miter;stroke:rgb(100%,0%,0%);stroke-opacity:1;stroke-miterlimit:10;\" d=\"M 550 202.078125 L 363.167969 524.675781 \"/>\n<path style=\" stroke:none;fill-rule:nonzero;fill:rgb(100%,0%,0%);fill-opacity:1;\" d=\"M 356.019531 537.019531 L 359.15625 522.351562 L 367.179688 526.996094 L 356.019531 537.019531 \"/>\n<path style=\"fill:none;stroke-width:0.19015;stroke-linecap:butt;stroke-linejoin:miter;stroke:rgb(100%,0%,0%);stroke-opacity:1;stroke-miterlimit:10;\" d=\"M 550 202.078125 L 78.9375 273.304688 \"/>\n<path style=\" stroke:none;fill-rule:nonzero;fill:rgb(100%,0%,0%);fill-opacity:1;\" d=\"M 64.832031 275.4375 L 78.242188 268.71875 L 79.628906 277.886719 L 64.832031 275.4375 \"/>\n<path style=\"fill:none;stroke-width:1.38786;stroke-linecap:butt;stroke-linejoin:miter;stroke:rgb(0%,100%,0%);stroke-opacity:1;stroke-miterlimit:10;\" d=\"M 588.410156 186.167969 C 588.410156 198.59375 578.335938 208.667969 565.910156 208.667969 C 553.484375 208.667969 543.410156 198.59375 543.410156 186.167969 C 543.410156 173.742188 553.484375 163.667969 565.910156 163.667969 C 578.335938 163.667969 588.410156 173.742188 588.410156 186.167969 \"/>\n<path style=\"fill-rule:nonzero;fill:rgb(100%,0%,0%);fill-opacity:1;stroke-width:1;stroke-linecap:butt;stroke-linejoin:miter;stroke:rgb(0%,0%,0%);stroke-opacity:1;stroke-miterlimit:10;\" d=\"M 549.628906 424.496094 C 549.628906 432.78125 542.914062 439.496094 534.628906 439.496094 C 526.347656 439.496094 519.628906 432.78125 519.628906 424.496094 C 519.628906 416.210938 526.347656 409.496094 534.628906 409.496094 C 542.914062 409.496094 549.628906 416.210938 549.628906 424.496094 \"/>\n<path style=\"fill-rule:nonzero;fill:rgb(100%,0%,0%);fill-opacity:1;stroke-width:1;stroke-linecap:butt;stroke-linejoin:miter;stroke:rgb(0%,0%,0%);stroke-opacity:1;stroke-miterlimit:10;\" d=\"M 147.882812 485.347656 C 147.882812 493.632812 141.164062 500.347656 132.882812 500.347656 C 124.597656 500.347656 117.882812 493.632812 117.882812 485.347656 C 117.882812 477.0625 124.597656 470.347656 132.882812 470.347656 C 141.164062 470.347656 147.882812 477.0625 147.882812 485.347656 \"/>\n<path style=\"fill-rule:nonzero;fill:rgb(100%,0%,0%);fill-opacity:1;stroke-width:1;stroke-linecap:butt;stroke-linejoin:miter;stroke:rgb(0%,0%,0%);stroke-opacity:1;stroke-miterlimit:10;\" d=\"M 400.3125 50 C 400.3125 58.285156 393.597656 65 385.3125 65 C 377.027344 65 370.3125 58.285156 370.3125 50 C 370.3125 41.714844 377.027344 35 385.3125 35 C 393.597656 35 400.3125 41.714844 400.3125 50 \"/>\n<path style=\"fill-rule:nonzero;fill:rgb(100%,0%,0%);fill-opacity:1;stroke-width:1;stroke-linecap:butt;stroke-linejoin:miter;stroke:rgb(0%,0%,0%);stroke-opacity:1;stroke-miterlimit:10;\" d=\"M 324.140625 296.398438 C 324.140625 304.683594 317.425781 311.398438 309.140625 311.398438 C 300.855469 311.398438 294.140625 304.683594 294.140625 296.398438 C 294.140625 288.113281 300.855469 281.398438 309.140625 281.398438 C 317.425781 281.398438 324.140625 288.113281 324.140625 296.398438 \"/>\n<path style=\"fill-rule:nonzero;fill:rgb(100%,0%,0%);fill-opacity:1;stroke-width:1;stroke-linecap:butt;stroke-linejoin:miter;stroke:rgb(0%,0%,0%);stroke-opacity:1;stroke-miterlimit:10;\" d=\"M 178.171875 85.226562 C 178.171875 93.507812 171.453125 100.226562 163.171875 100.226562 C 154.886719 100.226562 148.171875 93.507812 148.171875 85.226562 C 148.171875 76.941406 154.886719 70.226562 163.171875 70.226562 C 171.453125 70.226562 178.171875 76.941406 178.171875 85.226562 \"/>\n<path style=\"fill-rule:nonzero;fill:rgb(100%,0%,0%);fill-opacity:1;stroke-width:1;stroke-linecap:butt;stroke-linejoin:miter;stroke:rgb(0%,0%,0%);stroke-opacity:1;stroke-miterlimit:10;\" d=\"M 363.5 550 C 363.5 558.285156 356.785156 565 348.5 565 C 340.21875 565 333.5 558.285156 333.5 550 C 333.5 541.714844 340.21875 535 348.5 535 C 356.785156 535 363.5 541.714844 363.5 550 \"/>\n<path style=\"fill-rule:nonzero;fill:rgb(100%,0%,0%);fill-opacity:1;stroke-width:1;stroke-linecap:butt;stroke-linejoin:miter;stroke:rgb(0%,0%,0%);stroke-opacity:1;stroke-miterlimit:10;\" d=\"M 65 277.679688 C 65 285.960938 58.285156 292.679688 50 292.679688 C 41.714844 292.679688 35 285.960938 35 277.679688 C 35 269.394531 41.714844 262.679688 50 262.679688 C 58.285156 262.679688 65 269.394531 65 277.679688 \"/>\n<path style=\"fill-rule:nonzero;fill:rgb(100%,0%,0%);fill-opacity:1;stroke-width:1;stroke-linecap:butt;stroke-linejoin:miter;stroke:rgb(0%,0%,0%);stroke-opacity:1;stroke-miterlimit:10;\" d=\"M 565 202.078125 C 565 210.363281 558.285156 217.078125 550 217.078125 C 541.714844 217.078125 535 210.363281 535 202.078125 C 535 193.792969 541.714844 187.078125 550 187.078125 C 558.285156 187.078125 565 193.792969 565 202.078125 \"/>\n<g style=\"fill:rgb(0%,0%,0%);fill-opacity:1;\">\n  <use xlink:href=\"#glyph0-1\" x=\"524.152344\" y=\"454.898438\"/>\n  <use xlink:href=\"#glyph0-2\" x=\"531.353516\" y=\"454.898438\"/>\n  <use xlink:href=\"#glyph0-2\" x=\"538.554688\" y=\"454.898438\"/>\n</g>\n<g style=\"fill:rgb(0%,0%,0%);fill-opacity:1;\">\n  <use xlink:href=\"#glyph0-1\" x=\"118.859375\" y=\"515.875\"/>\n  <use xlink:href=\"#glyph0-3\" x=\"126.060547\" y=\"515.875\"/>\n  <use xlink:href=\"#glyph0-4\" x=\"133.261719\" y=\"515.875\"/>\n  <use xlink:href=\"#glyph0-5\" x=\"140.462891\" y=\"515.875\"/>\n</g>\n<g style=\"fill:rgb(0%,0%,0%);fill-opacity:1;\">\n  <use xlink:href=\"#glyph0-6\" x=\"367.046875\" y=\"80.527344\"/>\n  <use xlink:href=\"#glyph0-7\" x=\"374.248047\" y=\"80.527344\"/>\n  <use xlink:href=\"#glyph0-6\" x=\"381.449219\" y=\"80.527344\"/>\n  <use xlink:href=\"#glyph0-8\" x=\"388.650391\" y=\"80.527344\"/>\n  <use xlink:href=\"#glyph0-9\" x=\"395.851562\" y=\"80.527344\"/>\n</g>\n<g style=\"fill:rgb(0%,0%,0%);fill-opacity:1;\">\n  <use xlink:href=\"#glyph0-10\" x=\"287.730469\" y=\"326.925781\"/>\n  <use xlink:href=\"#glyph0-11\" x=\"294.931641\" y=\"326.925781\"/>\n  <use xlink:href=\"#glyph0-12\" x=\"302.132812\" y=\"326.925781\"/>\n  <use xlink:href=\"#glyph0-13\" x=\"309.333984\" y=\"326.925781\"/>\n  <use xlink:href=\"#glyph0-6\" x=\"316.535156\" y=\"326.925781\"/>\n  <use xlink:href=\"#glyph0-14\" x=\"323.736328\" y=\"326.925781\"/>\n</g>\n<g style=\"fill:rgb(0%,0%,0%);fill-opacity:1;\">\n  <use xlink:href=\"#glyph0-15\" x=\"152.554688\" y=\"115.628906\"/>\n  <use xlink:href=\"#glyph0-15\" x=\"159.755859\" y=\"115.628906\"/>\n  <use xlink:href=\"#glyph0-8\" x=\"166.957031\" y=\"115.628906\"/>\n</g>\n<g style=\"fill:rgb(0%,0%,0%);fill-opacity:1;\">\n  <use xlink:href=\"#glyph0-2\" x=\"334.003906\" y=\"580.527344\"/>\n  <use xlink:href=\"#glyph0-16\" x=\"341.205078\" y=\"580.527344\"/>\n  <use xlink:href=\"#glyph0-17\" x=\"348.40625\" y=\"580.527344\"/>\n  <use xlink:href=\"#glyph0-5\" x=\"355.607422\" y=\"580.527344\"/>\n</g>\n<g style=\"fill:rgb(0%,0%,0%);fill-opacity:1;\">\n  <use xlink:href=\"#glyph0-7\" x=\"35.734375\" y=\"308.207031\"/>\n  <use xlink:href=\"#glyph0-1\" x=\"42.935547\" y=\"308.207031\"/>\n  <use xlink:href=\"#glyph0-10\" x=\"50.136719\" y=\"308.207031\"/>\n  <use xlink:href=\"#glyph0-18\" x=\"57.337891\" y=\"308.207031\"/>\n</g>\n<g style=\"fill:rgb(0%,0%,0%);fill-opacity:1;\">\n  <use xlink:href=\"#glyph0-12\" x=\"535.414062\" y=\"232.605469\"/>\n  <use xlink:href=\"#glyph0-7\" x=\"542.615234\" y=\"232.605469\"/>\n  <use xlink:href=\"#glyph0-11\" x=\"549.816406\" y=\"232.605469\"/>\n  <use xlink:href=\"#glyph0-8\" x=\"557.017578\" y=\"232.605469\"/>\n</g>\n</g>\n</svg>\n"
          },
          "metadata": {
            "image/svg+xml": {
              "isolated": true
            }
          },
          "execution_count": 18
        }
      ]
    },
    {
      "cell_type": "code",
      "source": [
        "from google.colab import files\n",
        "files.download(\"your_output_file3.png\")\n"
      ],
      "metadata": {
        "colab": {
          "base_uri": "https://localhost:8080/",
          "height": 17
        },
        "id": "WqopC_yqZjXw",
        "outputId": "20c5c0b3-9e68-432e-83d1-54b39973b157"
      },
      "execution_count": null,
      "outputs": [
        {
          "output_type": "display_data",
          "data": {
            "text/plain": [
              "<IPython.core.display.Javascript object>"
            ],
            "application/javascript": [
              "\n",
              "    async function download(id, filename, size) {\n",
              "      if (!google.colab.kernel.accessAllowed) {\n",
              "        return;\n",
              "      }\n",
              "      const div = document.createElement('div');\n",
              "      const label = document.createElement('label');\n",
              "      label.textContent = `Downloading \"${filename}\": `;\n",
              "      div.appendChild(label);\n",
              "      const progress = document.createElement('progress');\n",
              "      progress.max = size;\n",
              "      div.appendChild(progress);\n",
              "      document.body.appendChild(div);\n",
              "\n",
              "      const buffers = [];\n",
              "      let downloaded = 0;\n",
              "\n",
              "      const channel = await google.colab.kernel.comms.open(id);\n",
              "      // Send a message to notify the kernel that we're ready.\n",
              "      channel.send({})\n",
              "\n",
              "      for await (const message of channel.messages) {\n",
              "        // Send a message to notify the kernel that we're ready.\n",
              "        channel.send({})\n",
              "        if (message.buffers) {\n",
              "          for (const buffer of message.buffers) {\n",
              "            buffers.push(buffer);\n",
              "            downloaded += buffer.byteLength;\n",
              "            progress.value = downloaded;\n",
              "          }\n",
              "        }\n",
              "      }\n",
              "      const blob = new Blob(buffers, {type: 'application/binary'});\n",
              "      const a = document.createElement('a');\n",
              "      a.href = window.URL.createObjectURL(blob);\n",
              "      a.download = filename;\n",
              "      div.appendChild(a);\n",
              "      a.click();\n",
              "      div.remove();\n",
              "    }\n",
              "  "
            ]
          },
          "metadata": {}
        },
        {
          "output_type": "display_data",
          "data": {
            "text/plain": [
              "<IPython.core.display.Javascript object>"
            ],
            "application/javascript": [
              "download(\"download_30b3f9fe-9cdc-4b84-9ddd-161b45afe6ee\", \"your_output_file3.png\", 76519)"
            ]
          },
          "metadata": {}
        }
      ]
    }
  ]
}
